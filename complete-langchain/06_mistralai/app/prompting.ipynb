{
 "cells": [
  {
   "cell_type": "code",
   "execution_count": 1,
   "metadata": {},
   "outputs": [],
   "source": [
    "from dotenv import load_dotenv\n",
    "from langchain_mistralai import ChatMistralAI\n",
    "\n",
    "_ = load_dotenv()"
   ]
  },
  {
   "cell_type": "code",
   "execution_count": 5,
   "metadata": {},
   "outputs": [
    {
     "data": {
      "text/plain": [
       "AIMessage(content=\"Hijabie'zi seviyorum.\", additional_kwargs={}, response_metadata={'token_usage': {'prompt_tokens': 38, 'total_tokens': 48, 'completion_tokens': 10}, 'model': 'mistral-large-latest', 'finish_reason': 'stop'}, id='run-700f696e-de49-433f-a00f-edcd5607c9fe-0', usage_metadata={'input_tokens': 38, 'output_tokens': 10, 'total_tokens': 48})"
      ]
     },
     "execution_count": 5,
     "metadata": {},
     "output_type": "execute_result"
    }
   ],
   "source": [
    "llm = ChatMistralAI(\n",
    "    model=\"mistral-large-latest\",\n",
    "    temperature=0,\n",
    "    max_retries=2,\n",
    "    # other params...\n",
    ")\n",
    "\n",
    "messages = [\n",
    "    (\n",
    "        \"system\",\n",
    "        \"You are a helpful assistant that translates English to Turkish. Just Translate the user sentence, not provide any other details.\",\n",
    "    ),\n",
    "    (\"human\", \"I love HIjabie.\"),\n",
    "]\n",
    "\n",
    "response = llm.invoke(messages)\n",
    "response"
   ]
  },
  {
   "cell_type": "code",
   "execution_count": 6,
   "metadata": {},
   "outputs": [],
   "source": [
    "prompt = \"\"\"\n",
    "    You are a bank customer service bot. \n",
    "    Your task is to assess customer intent and categorize customer \n",
    "    inquiry after <<<>>> into one of the following predefined categories:\n",
    "    \n",
    "    card arrival\n",
    "    change pin\n",
    "    exchange rate\n",
    "    country support \n",
    "    cancel transfer\n",
    "    charge dispute\n",
    "    \n",
    "    If the text doesn't fit into any of the above categories, \n",
    "    classify it as:\n",
    "    customer service\n",
    "    \n",
    "    You will only respond with the predefined category. \n",
    "    Do not provide explanations or notes. \n",
    "    \n",
    "    ###\n",
    "    Here are some examples:\n",
    "    \n",
    "    Inquiry: How do I know if I will get my card, or if it is lost? I am concerned about the delivery process and would like to ensure that I will receive my card as expected. Could you please provide information about the tracking process for my card, or confirm if there are any indicators to identify if the card has been lost during delivery?\n",
    "    Category: card arrival\n",
    "    Inquiry: I am planning an international trip to Paris and would like to inquire about the current exchange rates for Euros as well as any associated fees for foreign transactions.\n",
    "    Category: exchange rate \n",
    "    Inquiry: What countries are getting support? I will be traveling and living abroad for an extended period of time, specifically in France and Germany, and would appreciate any information regarding compatibility and functionality in these regions.\n",
    "    Category: country support\n",
    "    Inquiry: Can I get help starting my computer? I am having difficulty starting my computer, and would appreciate your expertise in helping me troubleshoot the issue. \n",
    "    Category: customer service\n",
    "    ###\n",
    "    \n",
    "    <<<\n",
    "    Inquiry: {inquiry}\n",
    "    >>>\n",
    "    Category:\n",
    "\"\"\""
   ]
  },
  {
   "cell_type": "code",
   "execution_count": 8,
   "metadata": {},
   "outputs": [
    {
     "data": {
      "text/plain": [
       "\"You are a bank customer service bot.\\nYour task is to assess customer intent and categorize the customer inquiry after <<<>>> into one of the following predefined categories:\\n\\ncard arrival\\nchange pin\\nexchange rate\\ncountry support\\ncancel transfer\\ncharge dispute\\n\\nIf the text doesn't fit into any of the above categories, classify it as:\\ncustomer service\\n\\nYou will only respond with the predefined category. Do not provide explanations or notes.\\n\\n###\\nHere are some examples:\\n\\nInquiry: How do I know if I will get my card, or if it is lost? I am concerned about the delivery process and would like to ensure that I will receive my card as expected. Could you please provide information about the tracking process for my card, or confirm if there are any indicators to identify if the card has been lost during delivery?\\nCategory: card arrival\\n\\nInquiry: I am planning an international trip to Paris and would like to inquire about the current exchange rates for Euros as well as any associated fees for foreign transactions.\\nCategory: exchange rate\\n\\nInquiry: What countries are supported? I will be traveling and living abroad for an extended period of time, specifically in France and Germany, and would appreciate any information regarding compatibility and functionality in these regions.\\nCategory: country support\\n\\nInquiry: Can I get help starting my computer? I am having difficulty starting my computer, and would appreciate your expertise in helping me troubleshoot the issue.\\nCategory: customer service\\n\\n###\\n\\n<<<\\nInquiry: {inquiry}\\n>>>\\nCategory:\""
      ]
     },
     "metadata": {},
     "output_type": "display_data"
    }
   ],
   "source": [
    "response = llm.invoke(f\"Please correct the spelling and grammar of \\\n",
    "this prompt and return a text that is the same prompt,\\\n",
    "with the spelling and grammar fixed: {prompt}\")\n",
    "display(response.content)"
   ]
  },
  {
   "cell_type": "code",
   "execution_count": 10,
   "metadata": {},
   "outputs": [
    {
     "name": "stdout",
     "output_type": "stream",
     "text": [
      "content='```json\\n{\\n    \"age\": 60,\\n    \"gender\": \"male\",\\n    \"diagnosis\": \"diabetes\",\\n    \"weight\": 210,\\n    \"smoking\": \"yes\"\\n}\\n```' additional_kwargs={} response_metadata={'token_usage': {'prompt_tokens': 279, 'total_tokens': 337, 'completion_tokens': 58}, 'model': 'mistral-large-latest', 'finish_reason': 'stop'} id='run-50b19b6c-ce22-42d2-978e-c8596dc27735-0' usage_metadata={'input_tokens': 279, 'output_tokens': 58, 'total_tokens': 337}\n"
     ]
    }
   ],
   "source": [
    "medical_notes = \"\"\"\n",
    "A 60-year-old male patient, Mr. Johnson, presented with symptoms\n",
    "of increased thirst, frequent urination, fatigue, and unexplained\n",
    "weight loss. Upon evaluation, he was diagnosed with diabetes,\n",
    "confirmed by elevated blood sugar levels. Mr. Johnson's weight\n",
    "is 210 lbs. He has been prescribed Metformin to be taken twice daily\n",
    "with meals. It was noted during the consultation that the patient is\n",
    "a current smoker. \n",
    "\"\"\"\n",
    "\n",
    "prompt = f\"\"\"\n",
    "Extract information from the following medical notes:\n",
    "{medical_notes}\n",
    "\n",
    "Return json format with the following JSON schema: \n",
    "\n",
    "{{\n",
    "        \"age\": {{\n",
    "            \"type\": \"integer\"\n",
    "        }},\n",
    "        \"gender\": {{\n",
    "            \"type\": \"string\",\n",
    "            \"enum\": [\"male\", \"female\", \"other\"]\n",
    "        }},\n",
    "        \"diagnosis\": {{\n",
    "            \"type\": \"string\",\n",
    "            \"enum\": [\"migraine\", \"diabetes\", \"arthritis\", \"acne\"]\n",
    "        }},\n",
    "        \"weight\": {{\n",
    "            \"type\": \"integer\"\n",
    "        }},\n",
    "        \"smoking\": {{\n",
    "            \"type\": \"string\",\n",
    "            \"enum\": [\"yes\", \"no\"]\n",
    "        }}\n",
    "}}\n",
    "\"\"\"\n",
    "\n",
    "response = llm.invoke(prompt)\n",
    "print(response)"
   ]
  },
  {
   "cell_type": "code",
   "execution_count": 12,
   "metadata": {},
   "outputs": [
    {
     "data": {
      "text/plain": [
       "\"Hi Anna,\\n\\nThank you for reaching out to us.\\n\\nOur 30-year fixed-rate mortgage has an Annual Percentage Rate (APR) of 6.484%. In comparison, our 15-year fixed-rate mortgage has an APR of 5.848%.\\n\\nHere's a simple comparison:\\n- 30-year fixed-rate APR: 6.484%\\n- 15-year fixed-rate APR: 5.848%\\n\\nIf you have any more questions or need further assistance, please feel free to ask. We're here to help!\\n\\nBest regards,\\nLender Customer Support\""
      ]
     },
     "execution_count": 12,
     "metadata": {},
     "output_type": "execute_result"
    }
   ],
   "source": [
    "email = \"\"\"\n",
    "Dear mortgage lender, \n",
    "\n",
    "What's your 30-year fixed-rate APR, how is it compared to the 15-year \n",
    "fixed rate?\n",
    "\n",
    "Regards,\n",
    "Anna\n",
    "\"\"\"\n",
    "\n",
    "prompt = f\"\"\"\n",
    "You are a mortgage lender customer service bot, and your task is to \n",
    "create personalized email responses to address customer questions.\n",
    "Answer the customer's inquiry using the provided facts below. Ensure \n",
    "that your response is clear, concise, and directly addresses the \n",
    "customer's question. Address the customer in a friendly and \n",
    "professional manner. Sign the email with \"Lender Customer Support.\"   \n",
    "\n",
    "# Facts\n",
    "30-year fixed-rate: interest rate 6.403%, APR 6.484%\n",
    "20-year fixed-rate: interest rate 6.329%, APR 6.429%\n",
    "15-year fixed-rate: interest rate 5.705%, APR 5.848%\n",
    "10-year fixed-rate: interest rate 5.500%, APR 5.720%\n",
    "7-year ARM: interest rate 7.011%, APR 7.660%\n",
    "5-year ARM: interest rate 6.880%, APR 7.754%\n",
    "3-year ARM: interest rate 6.125%, APR 7.204%\n",
    "30-year fixed-rate FHA: interest rate 5.527%, APR 6.316%\n",
    "30-year fixed-rate VA: interest rate 5.684%, APR 6.062%\n",
    "\n",
    "# Email\n",
    "{email}\n",
    "\"\"\"\n",
    "\n",
    "response = llm.invoke(prompt)\n",
    "response.content"
   ]
  },
  {
   "cell_type": "code",
   "execution_count": 13,
   "metadata": {},
   "outputs": [
    {
     "name": "stdout",
     "output_type": "stream",
     "text": [
      "# Summary\n",
      "\n",
      "The newsletter highlights the recent developments of European AI startup Mistral AI, which has introduced two new large language models, Mistral Large and Mistral Small. Microsoft has invested $16.3 million in Mistral AI and will distribute Mistral Large on its Azure platform, allowing Mistral AI to use Azure's computing infrastructure. The new models are available for free trials and can be used on Mistral AI's platform and via custom deployments. Mistral Large outperforms several competitors on the MMLU benchmark, while Mistral Small is optimized for latency and cost. Both models support multiple European languages and are trained for function calling and JSON-format output.\n",
      "\n",
      "The partnership between Mistral AI and Microsoft has sparked debate among European lawmakers, with some criticizing the potential for U.S. access to European data, while others support the collaboration. The European Commission plans to investigate the partnership for potential antitrust violations. The alliance gives Mistral AI access to powerful processing capabilities and a broader customer base, while Microsoft gains entry into the European market. The newsletter underscores Mistral AI's rapid progress and the concentration of processing power in U.S.-based cloud companies.\n",
      "\n",
      "# Interesting Questions\n",
      "\n",
      "## Q1: What are the potential implications of Microsoft's investment in Mistral AI for the European AI landscape?\n",
      "\n",
      "### A1:\n",
      "Microsoft's investment in Mistral AI could significantly alter the European AI landscape by providing the startup with the necessary resources to compete with larger, U.S.-based AI companies. This investment could lead to the development of more advanced AI models tailored to European needs and regulatory environments. However, it also raises concerns about data privacy and the potential for U.S. companies to gain access to European user data. The European Commission's investigation into the partnership highlights the regulatory scrutiny that such collaborations face.\n",
      "\n",
      "<The investment could boost European AI capabilities but also raises data privacy concerns and regulatory scrutiny.>\n",
      "\n",
      "## Q2: How does the performance of Mistral Large compare to other leading AI models, and what does this mean for its market potential?\n",
      "\n",
      "### A2:\n",
      "Mistral Large achieved an 81.2 percent score on the MMLU benchmark, outperforming models like Anthropic’s Claude 2, Google’s Gemini Pro, and Meta’s Llama 2 70B, but falling short of GPT-4. This performance indicates that Mistral Large is a highly competitive model, which could attract customers looking for high-performance AI solutions. Its ability to process 32,000 tokens of input context and support multiple European languages further enhances its market potential, especially in regions with stringent regulatory requirements.\n",
      "\n",
      "<Mistral Large's strong performance on the MMLU benchmark positions it as a competitive model with significant market potential, particularly in Europe.>\n",
      "\n",
      "## Q3: What are the potential benefits and drawbacks of the collaboration between Mistral AI and Microsoft for European governments and customers?\n",
      "\n",
      "### A3:\n",
      "The collaboration between Mistral AI and Microsoft offers several benefits, including access to advanced AI models tailored to European regulatory environments and the ability to leverage Microsoft's powerful computing infrastructure. This could lead to more efficient and effective AI solutions for European governments and customers. However, the partnership also raises concerns about data privacy and the potential for U.S. companies to gain access to sensitive European data. Additionally, the concentration of processing power in U.S.-based cloud companies could limit Europe's ability to develop independent AI capabilities.\n",
      "\n",
      "<The collaboration offers advanced AI solutions and powerful computing infrastructure but raises data privacy concerns and limits Europe's AI independence.>\n",
      "\n",
      "# Analysis Report\n",
      "\n",
      "## Mistral AI and Microsoft Partnership: A Game Changer for European AI?\n",
      "\n",
      "### Introduction\n",
      "\n",
      "Mistral AI, a European AI startup, has recently unveiled two new large language models, Mistral Large and Mistral Small, and formed a strategic alliance with Microsoft. This partnership involves a $16.3 million investment from Microsoft and the distribution of Mistral Large on the Azure platform. The newsletter highlights the potential implications of this collaboration for the European AI landscape, the performance of Mistral's new models, and the benefits and drawbacks for European governments and customers.\n",
      "\n",
      "### Key Points\n",
      "\n",
      "- **New Models**: Mistral AI introduced Mistral Large and Mistral Small, joining Mistral Medium. The new models are available for free trials and can be used on Mistral AI's platform and via custom deployments.\n",
      "- **Microsoft Investment**: Microsoft invested $16.3 million in Mistral AI and will distribute Mistral Large on its Azure platform, allowing Mistral AI to use Azure's computing infrastructure.\n",
      "- **Model Performance**: Mistral Large achieved 81.2 percent on the MMLU benchmark, outperforming several competitors but falling short of GPT-4. Mistral Small, optimized for latency and cost, achieved 72.2 percent.\n",
      "- **Regulatory Concerns**: The partnership has divided European lawmakers, with some criticizing the potential for U.S. access to European data. The European Commission plans to investigate the partnership for potential antitrust violations.\n",
      "- **Market Potential**: The collaboration gives Mistral AI access to powerful processing capabilities and a broader customer base, while Microsoft gains entry into the European market.\n",
      "\n",
      "### Analysis\n",
      "\n",
      "#### Implications for the European AI Landscape\n",
      "\n",
      "Microsoft's investment in Mistral AI could significantly alter the European AI landscape by providing the startup with the necessary resources to compete with larger, U.S.-based AI companies. This investment could lead to the development of more advanced AI models tailored to European needs and regulatory environments. However, it also raises concerns about data privacy and the potential for U.S. companies to gain access to European user data. The European Commission's investigation into the partnership highlights the regulatory scrutiny that such collaborations face.\n",
      "\n",
      "#### Performance of Mistral Large\n",
      "\n",
      "Mistral Large's strong performance on the MMLU benchmark positions it as a competitive model with significant market potential, particularly in Europe. Its ability to process 32,000 tokens of input context and support multiple European languages further enhances its market potential, especially in regions with stringent regulatory requirements.\n",
      "\n",
      "#### Benefits and Drawbacks for European Governments and Customers\n",
      "\n",
      "The collaboration between Mistral AI and Microsoft offers several benefits, including access to advanced AI models tailored to European regulatory environments and the ability to leverage Microsoft's powerful computing infrastructure. This could lead to more efficient and effective AI solutions for European governments and customers. However, the partnership also raises concerns about data privacy and the potential for U.S. companies to gain access to sensitive European data. Additionally, the concentration of processing power in U.S.-based cloud companies could limit Europe's ability to develop independent AI capabilities.\n",
      "\n",
      "### Conclusion\n",
      "\n",
      "The partnership between Mistral AI and Microsoft represents a significant development in the European AI landscape. While it offers numerous benefits, including advanced AI solutions and powerful computing infrastructure, it also raises important concerns about data privacy and Europe's AI independence. The regulatory scrutiny and divided opinions among European lawmakers underscore the complexities of such collaborations. As Mistral AI continues to make impressive progress, the concentration of processing power in U.S.-based cloud companies remains a critical issue for the future of European AI.\n",
      "\n",
      "```\n"
     ]
    }
   ],
   "source": [
    "# Summarization\n",
    "newsletter = \"\"\"\n",
    "European AI champion Mistral AI unveiled new large language models and formed an alliance with Microsoft. \n",
    "\n",
    "What’s new: Mistral AI introduced two closed models, Mistral Large and Mistral Small (joining Mistral Medium, which debuted quietly late last year). Microsoft invested $16.3 million in the French startup, and it agreed to distribute Mistral Large on its Azure platform and let Mistral AI use Azure computing infrastructure. Mistral AI makes the new models available to try for free here and to use on its La Plateforme and via custom deployments.\n",
    "\n",
    "Model specs: The new models’ parameter counts, architectures, and training methods are undisclosed. Like the earlier, open source Mistral 7B and Mixtral 8x7B, they can process 32,000 tokens of input context. \n",
    "\n",
    "Mistral Large achieved 81.2 percent on the MMLU benchmark, outperforming Anthropic’s Claude 2, Google’s Gemini Pro, and Meta’s Llama 2 70B, though falling short of GPT-4. Mistral Small, which is optimized for latency and cost, achieved 72.2 percent on MMLU.\n",
    "Both models are fluent in French, German, Spanish, and Italian. They’re trained for function calling and JSON-format output.\n",
    "Microsoft’s investment in Mistral AI is significant but tiny compared to its $13 billion stake in OpenAI and Google and Amazon’s investments in Anthropic, which amount to $2 billion and $4 billion respectively.\n",
    "Mistral AI and Microsoft will collaborate to train bespoke models for customers including European governments.\n",
    "Behind the news: Mistral AI was founded in early 2023 by engineers from Google and Meta. The French government has touted the company as a home-grown competitor to U.S.-based leaders like OpenAI. France’s representatives in the European Commission argued on Mistral’s behalf to loosen the European Union’s AI Act oversight on powerful AI models. \n",
    "\n",
    "Yes, but: Mistral AI’s partnership with Microsoft has divided European lawmakers and regulators. The European Commission, which already was investigating Microsoft’s agreement with OpenAI for potential breaches of antitrust law, plans to investigate the new partnership as well. Members of President Emmanuel Macron’s Renaissance party criticized the deal’s potential to give a U.S. company access to European users’ data. However, other French lawmakers support the relationship.\n",
    "\n",
    "Why it matters: The partnership between Mistral AI and Microsoft gives the startup crucial processing power for training large models and greater access to potential customers around the world. It gives the tech giant greater access to the European market. And it gives Azure customers access to a high-performance model that’s tailored to Europe’s unique regulatory environment.\n",
    "\n",
    "We’re thinking: Mistral AI has made impressive progress in a short time, especially relative to the resources at its disposal as a startup. Its partnership with a leading hyperscaler is a sign of the tremendous processing and distribution power that remains concentrated in the large, U.S.-headquartered cloud companies.\n",
    "\"\"\"\n",
    "\n",
    "prompt = f\"\"\"\n",
    "You are a commentator. Your task is to write a report on a newsletter. \n",
    "When presented with the newsletter, come up with interesting questions to ask,\n",
    "and answer each question. \n",
    "Afterward, combine all the information and write a report in the markdown\n",
    "format. \n",
    "\n",
    "# Newsletter: \n",
    "{newsletter}\n",
    "\n",
    "# Instructions: \n",
    "## Summarize:\n",
    "In clear and concise language, summarize the key points and themes \n",
    "presented in the newsletter.\n",
    "\n",
    "## Interesting Questions: \n",
    "Generate three distinct and thought-provoking questions that can be \n",
    "asked about the content of the newsletter. For each question:\n",
    "- After \"Q: \", describe the problem \n",
    "- After \"A: \", provide a detailed explanation of the problem addressed \n",
    "in the question.\n",
    "- Enclose the ultimate answer in <>.\n",
    "\n",
    "## Write a analysis report\n",
    "Using the summary and the answers to the interesting questions, \n",
    "create a comprehensive report in Markdown format. \n",
    "\"\"\"\n",
    "\n",
    "response = llm.invoke(prompt)\n",
    "print(response.content)"
   ]
  },
  {
   "cell_type": "code",
   "execution_count": null,
   "metadata": {},
   "outputs": [],
   "source": []
  }
 ],
 "metadata": {
  "kernelspec": {
   "display_name": "open-service-uQHKusx_-py3.12",
   "language": "python",
   "name": "python3"
  },
  "language_info": {
   "codemirror_mode": {
    "name": "ipython",
    "version": 3
   },
   "file_extension": ".py",
   "mimetype": "text/x-python",
   "name": "python",
   "nbconvert_exporter": "python",
   "pygments_lexer": "ipython3",
   "version": "3.12.4"
  }
 },
 "nbformat": 4,
 "nbformat_minor": 2
}
