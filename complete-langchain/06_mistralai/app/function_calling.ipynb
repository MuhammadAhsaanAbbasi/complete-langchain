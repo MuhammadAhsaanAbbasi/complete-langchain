{
 "cells": [
  {
   "cell_type": "code",
   "execution_count": 2,
   "metadata": {},
   "outputs": [
    {
     "data": {
      "text/html": [
       "<div>\n",
       "<style scoped>\n",
       "    .dataframe tbody tr th:only-of-type {\n",
       "        vertical-align: middle;\n",
       "    }\n",
       "\n",
       "    .dataframe tbody tr th {\n",
       "        vertical-align: top;\n",
       "    }\n",
       "\n",
       "    .dataframe thead th {\n",
       "        text-align: right;\n",
       "    }\n",
       "</style>\n",
       "<table border=\"1\" class=\"dataframe\">\n",
       "  <thead>\n",
       "    <tr style=\"text-align: right;\">\n",
       "      <th></th>\n",
       "      <th>transaction_id</th>\n",
       "      <th>customer_id</th>\n",
       "      <th>payment_amount</th>\n",
       "      <th>payment_date</th>\n",
       "      <th>payment_status</th>\n",
       "    </tr>\n",
       "  </thead>\n",
       "  <tbody>\n",
       "    <tr>\n",
       "      <th>0</th>\n",
       "      <td>T1001</td>\n",
       "      <td>C001</td>\n",
       "      <td>125.50</td>\n",
       "      <td>2021-10-05</td>\n",
       "      <td>Paid</td>\n",
       "    </tr>\n",
       "    <tr>\n",
       "      <th>1</th>\n",
       "      <td>T1002</td>\n",
       "      <td>C002</td>\n",
       "      <td>89.99</td>\n",
       "      <td>2021-10-06</td>\n",
       "      <td>Unpaid</td>\n",
       "    </tr>\n",
       "    <tr>\n",
       "      <th>2</th>\n",
       "      <td>T1003</td>\n",
       "      <td>C003</td>\n",
       "      <td>120.00</td>\n",
       "      <td>2021-10-07</td>\n",
       "      <td>Paid</td>\n",
       "    </tr>\n",
       "    <tr>\n",
       "      <th>3</th>\n",
       "      <td>T1004</td>\n",
       "      <td>C002</td>\n",
       "      <td>54.30</td>\n",
       "      <td>2021-10-05</td>\n",
       "      <td>Paid</td>\n",
       "    </tr>\n",
       "    <tr>\n",
       "      <th>4</th>\n",
       "      <td>T1005</td>\n",
       "      <td>C001</td>\n",
       "      <td>210.20</td>\n",
       "      <td>2021-10-08</td>\n",
       "      <td>Pending</td>\n",
       "    </tr>\n",
       "  </tbody>\n",
       "</table>\n",
       "</div>"
      ],
      "text/plain": [
       "  transaction_id customer_id  payment_amount payment_date payment_status\n",
       "0          T1001        C001          125.50   2021-10-05           Paid\n",
       "1          T1002        C002           89.99   2021-10-06         Unpaid\n",
       "2          T1003        C003          120.00   2021-10-07           Paid\n",
       "3          T1004        C002           54.30   2021-10-05           Paid\n",
       "4          T1005        C001          210.20   2021-10-08        Pending"
      ]
     },
     "execution_count": 2,
     "metadata": {},
     "output_type": "execute_result"
    }
   ],
   "source": [
    "import pandas as pd\n",
    "data = {\n",
    "    \"transaction_id\": [\"T1001\", \"T1002\", \"T1003\", \"T1004\", \"T1005\"],\n",
    "    \"customer_id\": [\"C001\", \"C002\", \"C003\", \"C002\", \"C001\"],\n",
    "    \"payment_amount\": [125.50, 89.99, 120.00, 54.30, 210.20],\n",
    "    \"payment_date\": [\n",
    "        \"2021-10-05\",\n",
    "        \"2021-10-06\",\n",
    "        \"2021-10-07\",\n",
    "        \"2021-10-05\",\n",
    "        \"2021-10-08\",\n",
    "    ],\n",
    "    \"payment_status\": [\"Paid\", \"Unpaid\", \"Paid\", \"Paid\", \"Pending\"],\n",
    "}\n",
    "\n",
    "df = pd.DataFrame(data)\n",
    "df"
   ]
  },
  {
   "cell_type": "code",
   "execution_count": 3,
   "metadata": {},
   "outputs": [],
   "source": [
    "data = \"\"\"\n",
    "    \"transaction_id\": [\"T1001\", \"T1002\", \"T1003\", \"T1004\", \"T1005\"],\n",
    "    \"customer_id\": [\"C001\", \"C002\", \"C003\", \"C002\", \"C001\"],\n",
    "    \"payment_amount\": [125.50, 89.99, 120.00, 54.30, 210.20],\n",
    "    \"payment_date\": [\n",
    "        \"2021-10-05\",\n",
    "        \"2021-10-06\",\n",
    "        \"2021-10-07\",\n",
    "        \"2021-10-05\",\n",
    "        \"2021-10-08\",\n",
    "    ],\n",
    "    \"payment_status\": [\"Paid\", \"Unpaid\", \"Paid\", \"Paid\", \"Pending\"],\n",
    "}\n",
    "\"\"\"\n",
    "transaction_id = \"T1001\"\n",
    "\n",
    "prompt = f\"\"\"\n",
    "Given the following data, what is the payment status for \\\n",
    "transaction_id={transaction_id}? just give accurate answer in object format \\\n",
    "not provide any extra info & details.\n",
    "\n",
    "data:\n",
    "{data}\n",
    "\n",
    "\"\"\""
   ]
  },
  {
   "cell_type": "code",
   "execution_count": 4,
   "metadata": {},
   "outputs": [
    {
     "data": {
      "text/plain": [
       "'{\"payment_status\": \"Paid\"}'"
      ]
     },
     "execution_count": 4,
     "metadata": {},
     "output_type": "execute_result"
    }
   ],
   "source": [
    "from langchain_mistralai import ChatMistralAI\n",
    "\n",
    "llm = ChatMistralAI(model_name=\"mistral-small-latest\")\n",
    "\n",
    "response = llm.invoke(prompt)\n",
    "\n",
    "response.content"
   ]
  },
  {
   "cell_type": "markdown",
   "metadata": {},
   "source": [
    "### Specific Functions"
   ]
  },
  {
   "cell_type": "code",
   "execution_count": 5,
   "metadata": {},
   "outputs": [
    {
     "data": {
      "text/plain": [
       "{'df_json': {'description': 'Serialized DataFrame in JSON format',\n",
       "  'title': 'Df Json',\n",
       "  'type': 'string'},\n",
       " 'transaction_id': {'description': 'Transaction ID to look up',\n",
       "  'title': 'Transaction Id',\n",
       "  'type': 'string'}}"
      ]
     },
     "execution_count": 5,
     "metadata": {},
     "output_type": "execute_result"
    }
   ],
   "source": [
    "import pandas as pd\n",
    "import json\n",
    "from pydantic import BaseModel, Field\n",
    "from langchain.tools import tool\n",
    "\n",
    "# Define the input schema\n",
    "class MistralStatusInput(BaseModel):\n",
    "    df_json: str = Field(description=\"Serialized DataFrame in JSON format\")\n",
    "    transaction_id: str = Field(description=\"Transaction ID to look up\")\n",
    "\n",
    "    class Config:\n",
    "        arbitrary_types_allowed = True\n",
    "\n",
    "# Tool function to retrieve payment status\n",
    "@tool(args_schema=MistralStatusInput)\n",
    "def retrieve_payment_status(df_json: str, transaction_id: str) -> str:\n",
    "    \"\"\"Retrieve payment status based on transaction_id.\"\"\"\n",
    "    # Deserialize the DataFrame\n",
    "    df = pd.read_json(df_json)\n",
    "    if transaction_id in df[\"transaction_id\"].values:\n",
    "        status = df.loc[df[\"transaction_id\"] == transaction_id, \"payment_status\"].item()\n",
    "        return json.dumps({\"status\": status})\n",
    "    return json.dumps({\"error\": \"Transaction ID not found.\"})\n",
    "\n",
    "# Serialize the DataFrame to JSON\n",
    "df_json = df.to_json()\n",
    "\n",
    "# Test the tool\n",
    "retrieve_payment_status.args\n"
   ]
  },
  {
   "cell_type": "code",
   "execution_count": 6,
   "metadata": {},
   "outputs": [
    {
     "name": "stderr",
     "output_type": "stream",
     "text": [
      "C:\\Users\\Dell\\AppData\\Local\\Temp\\ipykernel_17756\\2075695128.py:26: LangChainDeprecationWarning: The method `BaseTool.__call__` was deprecated in langchain-core 0.1.47 and will be removed in 1.0. Use :meth:`~invoke` instead.\n",
      "  retrieve_payment_date({\"df_json\": df_json, \"transaction_id\": \"T1001\"})\n",
      "C:\\Users\\Dell\\AppData\\Local\\Temp\\ipykernel_17756\\2075695128.py:14: FutureWarning: Passing literal json to 'read_json' is deprecated and will be removed in a future version. To read from a literal string, wrap it in a 'StringIO' object.\n",
      "  df = pd.read_json(df_json)\n"
     ]
    },
    {
     "data": {
      "text/plain": [
       "'{\"date\": \"2021-10-05\"}'"
      ]
     },
     "execution_count": 6,
     "metadata": {},
     "output_type": "execute_result"
    }
   ],
   "source": [
    "# Define the input schema for retrieve_payment_date\n",
    "class PaymentDateInput(BaseModel):\n",
    "    df_json: str = Field(description=\"Serialized DataFrame in JSON format\")\n",
    "    transaction_id: str = Field(description=\"Transaction ID to look up\")\n",
    "\n",
    "    class Config:\n",
    "        arbitrary_types_allowed = True\n",
    "\n",
    "# Tool function to retrieve payment date\n",
    "@tool(args_schema=PaymentDateInput)\n",
    "def retrieve_payment_date(df_json: str, transaction_id: str) -> str:\n",
    "    \"\"\"Retrieve payment date based on transaction_id.\"\"\"\n",
    "    # Deserialize the DataFrame\n",
    "    df = pd.read_json(df_json)\n",
    "    if transaction_id in df[\"transaction_id\"].values:\n",
    "        date = df.loc[df[\"transaction_id\"] == transaction_id, \"payment_date\"].item()\n",
    "        return json.dumps({\"date\": date})\n",
    "    return json.dumps({\"error\": \"Transaction ID not found.\"})\n",
    "\n",
    "# Serialize the DataFrame to JSON\n",
    "df_json = df.to_json()\n",
    "\n",
    "# Test the tool\n",
    "retrieve_payment_date.args\n",
    "\n",
    "retrieve_payment_date({\"df_json\": df_json, \"transaction_id\": \"T1001\"})"
   ]
  },
  {
   "cell_type": "code",
   "execution_count": 8,
   "metadata": {},
   "outputs": [],
   "source": [
    "def format_tool_to_mistral_function(tool):\n",
    "    \"\"\"\n",
    "    Convert a LangChain tool into a Mistral-compatible function format.\n",
    "    \n",
    "    Args:\n",
    "        tool: The LangChain tool object.\n",
    "\n",
    "    Returns:\n",
    "        dict: A Mistral-compatible function representation.\n",
    "    \"\"\"\n",
    "    if not hasattr(tool, \"args_schema\"):\n",
    "        raise ValueError(\"Tool must have an 'args_schema' attribute.\")\n",
    "    \n",
    "    schema = tool.args_schema.model_json_schema()\n",
    "    function_name = tool.name\n",
    "    description = tool.description or \"No description available.\"\n",
    "    parameters = schema.get(\"properties\", {})\n",
    "\n",
    "    mistral_function = {\n",
    "        \"name\": function_name,\n",
    "        \"description\": description,\n",
    "        \"parameters\": {\n",
    "            \"type\": \"object\",\n",
    "            \"properties\": parameters,\n",
    "            \"required\": schema.get(\"required\", []),\n",
    "        },\n",
    "    }\n",
    "    return mistral_function\n"
   ]
  },
  {
   "cell_type": "code",
   "execution_count": 9,
   "metadata": {},
   "outputs": [
    {
     "name": "stdout",
     "output_type": "stream",
     "text": [
      "{'name': 'retrieve_payment_date', 'description': 'Retrieve payment date based on transaction_id.', 'parameters': {'type': 'object', 'properties': {'df_json': {'description': 'Serialized DataFrame in JSON format', 'title': 'Df Json', 'type': 'string'}, 'transaction_id': {'description': 'Transaction ID to look up', 'title': 'Transaction Id', 'type': 'string'}}, 'required': ['df_json', 'transaction_id']}}\n"
     ]
    }
   ],
   "source": [
    "payment_date_function = format_tool_to_mistral_function(retrieve_payment_date)\n",
    "print(payment_date_function)\n"
   ]
  },
  {
   "cell_type": "code",
   "execution_count": 15,
   "metadata": {},
   "outputs": [
    {
     "data": {
      "text/plain": [
       "AIMessage(content='', additional_kwargs={'tool_calls': [{'id': '9i7Tz2u36', 'type': 'function', 'function': {'name': 'retrieve_payment_status', 'arguments': '{\"df_json\": \"eyJ0cmFuc2FjdGlvbl90aWQiOiAiVDEwMDIifQ==\", \"transaction_id\": \"T1002\"}'}}]}, response_metadata={'token_usage': {'prompt_tokens': 262, 'total_tokens': 329, 'completion_tokens': 67}, 'model': 'mistral-large-latest', 'finish_reason': 'tool_calls'}, id='run-e5930e65-3e85-4ee8-a8c1-960d857c39ec-0', tool_calls=[{'name': 'retrieve_payment_status', 'args': {'df_json': 'eyJ0cmFuc2FjdGlvbl90aWQiOiAiVDEwMDIifQ==', 'transaction_id': 'T1002'}, 'id': '9i7Tz2u36', 'type': 'tool_call'}], usage_metadata={'input_tokens': 262, 'output_tokens': 67, 'total_tokens': 329})"
      ]
     },
     "execution_count": 15,
     "metadata": {},
     "output_type": "execute_result"
    }
   ],
   "source": [
    "from langchain_core.messages import SystemMessage, AIMessage, HumanMessage\n",
    "\n",
    "# Define tools (retrieve_payment_date and retrieve_payment_status are assumed to be defined)\n",
    "tools = [retrieve_payment_date, retrieve_payment_status]\n",
    "\n",
    "functions = [format_tool_to_mistral_function(tool) for tool in tools]\n",
    "\n",
    "\n",
    "# Chat history\n",
    "chat_history = [\n",
    "    HumanMessage(role=\"user\", content=\"What's the status of my transaction T1002?\")\n",
    "]\n",
    "\n",
    "# Initialize Mistral model\n",
    "llm = ChatMistralAI(model_name=\"mistral-large-latest\", temperature=0).bind_tools(tools=functions)\n",
    "\n",
    "# Invoke the model without the `functions` parameter\n",
    "response = llm.invoke(chat_history)\n",
    "\n",
    "# Process response\n",
    "# if \"retrieve_payment_status\" in response.content:\n",
    "#     # Call the tool manually\n",
    "#     result = tools[\"retrieve_payment_status\"](\n",
    "#         {\"df_json\": df_json, \"transaction_id\": \"T1002\"}\n",
    "#     )\n",
    "#     print(result)\n",
    "# elif \"retrieve_payment_date\" in response.content:\n",
    "#     # Call the tool manually\n",
    "#     result = tools[\"retrieve_payment_date\"](\n",
    "#         {\"df_json\": df_json, \"transaction_id\": \"T1002\"}\n",
    "#     )\n",
    "#     print(result)\n",
    "# else:\n",
    "#     print(\"No matching tool found for the response.\")\n",
    "\n",
    "response\n"
   ]
  },
  {
   "cell_type": "code",
   "execution_count": 18,
   "metadata": {},
   "outputs": [
    {
     "data": {
      "text/plain": [
       "[HumanMessage(content=\"What's the status of my transaction?\", additional_kwargs={}, response_metadata={}, role='user'),\n",
       " AIMessage(content='Please provide me with the transaction ID.', additional_kwargs={}, response_metadata={}, role='assistant'),\n",
       " HumanMessage(content='My transaction ID is T1001.', additional_kwargs={}, response_metadata={}, role='user'),\n",
       " AIMessage(content='', additional_kwargs={}, response_metadata={}, role='assistant'),\n",
       " HumanMessage(content='My transaction ID is T1001.', additional_kwargs={}, response_metadata={}, role='user')]"
      ]
     },
     "execution_count": 18,
     "metadata": {},
     "output_type": "execute_result"
    }
   ],
   "source": [
    "chat_history.append(\n",
    "    AIMessage(role=\"assistant\", content=response.content)\n",
    ")\n",
    "chat_history.append(HumanMessage(role=\"user\", content=\"My transaction ID is T1001.\"))\n",
    "chat_history"
   ]
  },
  {
   "cell_type": "code",
   "execution_count": 17,
   "metadata": {},
   "outputs": [
    {
     "data": {
      "text/plain": [
       "''"
      ]
     },
     "execution_count": 17,
     "metadata": {},
     "output_type": "execute_result"
    }
   ],
   "source": [
    "response = llm.invoke(chat_history)\n",
    "response.content"
   ]
  },
  {
   "cell_type": "code",
   "execution_count": null,
   "metadata": {},
   "outputs": [],
   "source": []
  }
 ],
 "metadata": {
  "kernelspec": {
   "display_name": "open-service-uQHKusx_-py3.12",
   "language": "python",
   "name": "python3"
  },
  "language_info": {
   "codemirror_mode": {
    "name": "ipython",
    "version": 3
   },
   "file_extension": ".py",
   "mimetype": "text/x-python",
   "name": "python",
   "nbconvert_exporter": "python",
   "pygments_lexer": "ipython3",
   "version": "3.12.4"
  }
 },
 "nbformat": 4,
 "nbformat_minor": 2
}
