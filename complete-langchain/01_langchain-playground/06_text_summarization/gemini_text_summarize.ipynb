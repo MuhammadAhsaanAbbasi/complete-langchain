{
 "cells": [
  {
   "cell_type": "code",
   "execution_count": 2,
   "metadata": {},
   "outputs": [],
   "source": [
    "# Basic Prompt Text Summarization\n",
    "import os\n",
    "from dotenv import load_dotenv\n",
    "from langchain_google_genai import  ChatGoogleGenerativeAI\n",
    "from langchain_core.messages import HumanMessage, AIMessage, SystemMessage\n",
    "from langchain.prompts import  ChatPromptTemplate\n",
    "from langchain_core.output_parsers import  StrOutputParser\n",
    "\n",
    "_ = load_dotenv()\n",
    "\n",
    "speech = \"\"\"\n",
    "Today, I stand before you not just as the Prime Minister of Pakistan but as a \n",
    "representative of billions of people whose voices are often unheard. The world \n",
    "faces grave challenges—climate change, global inequality, and the erosion of human \n",
    "rights. In South Asia, peace remains elusive due to unresolved conflicts, particularly \n",
    "in Jammu and Kashmir, where people have been denied their right to self-determination. \n",
    "I urge this assembly to uphold justice and the principles of the United Nations Charter. \n",
    "Let us come together to combat injustice, protect our planet, and create a fairer world for future generations.\n",
    "\"\"\"\n",
    "llm = ChatGoogleGenerativeAI(model=\"gemini-2.0-flash-exp\")"
   ]
  },
  {
   "cell_type": "code",
   "execution_count": 3,
   "metadata": {},
   "outputs": [
    {
     "data": {
      "text/plain": [
       "'The Prime Minister of Pakistan addressed the assembly, highlighting global challenges like climate change, inequality, and human rights violations. He focused on the lack of peace in South Asia due to unresolved conflicts, particularly in Jammu and Kashmir, where self-determination is denied. He urged the assembly to uphold justice and UN principles for a fairer future.\\n'"
      ]
     },
     "execution_count": 3,
     "metadata": {},
     "output_type": "execute_result"
    }
   ],
   "source": [
    "prompt = ChatPromptTemplate.from_messages([\n",
    "    SystemMessage(content=\"You are a helpful assistant to summarize text.\"),\n",
    "    HumanMessage(content=f\"Please provide a short concise summary of the following speech: \\nTEXT: {speech}\"),\n",
    "])\n",
    "\n",
    "\n",
    "response = llm.invoke(prompt.format_messages())\n",
    "response.content"
   ]
  },
  {
   "cell_type": "code",
   "execution_count": 4,
   "metadata": {},
   "outputs": [
    {
     "data": {
      "text/plain": [
       "\"Okay, here's a concise summary of the speech, followed by its Turkish translation:\\n\\n**Summary:**\\n\\nThe Prime Minister of Pakistan addresses the UN, highlighting global challenges like climate change, inequality, and human rights violations. He emphasizes the need for peace in South Asia, particularly concerning the unresolved conflict in Jammu and Kashmir, where self-determination is denied. He calls for justice, environmental protection, and a fairer world, urging the assembly to uphold UN principles.\\n\\n**Turkish Translation:**\\n\\nPakistan Başbakanı BM'ye hitap ederek iklim değişikliği, eşitsizlik ve insan hakları ihlalleri gibi küresel zorluklara dikkat çekiyor. Güney Asya'da, özellikle kendi kaderini tayin hakkının reddedildiği Jammu ve Keşmir'deki çözülmemiş çatışma nedeniyle barışın gerekliliğini vurguluyor. Adalet, çevre koruma ve daha adil bir dünya için çağrıda bulunarak meclisi BM ilkelerini desteklemeye teşvik ediyor.\\n\""
      ]
     },
     "execution_count": 4,
     "metadata": {},
     "output_type": "execute_result"
    }
   ],
   "source": [
    "# Prompt Template Summarization\n",
    "prompt = ChatPromptTemplate.from_messages([\n",
    "    (\"system\",\"You are a helpful assistant to summarize text.\"),\n",
    "    (\"human\", \"\"\"\n",
    "    Please provide a short concise summary of the following speech: \\nTEXT: {speech}\n",
    "    & translate the summary into {language} language\n",
    "    \"\"\"),\n",
    "])\n",
    "\n",
    "chain = prompt | llm\n",
    "\n",
    "response = chain.invoke({\"speech\": speech, \"language\": \"Turkish\"})\n",
    "response.content"
   ]
  },
  {
   "cell_type": "code",
   "execution_count": 5,
   "metadata": {},
   "outputs": [
    {
     "name": "stdout",
     "output_type": "stream",
     "text": [
      "Okay, here's a concise summary of the letter, followed by a Turkish translation:\n",
      "\n",
      "**Summary:**\n",
      "\n",
      "The author is writing to a person they deeply admire, acknowledging their academic achievements in applied physics. They express that their feelings have grown beyond admiration and that they are now in love with the person. They respect the recipient's goals and want to be open about their feelings, even if the feelings are not reciprocated. The author expresses their support regardless of the recipient's decision, whether it leads to a deeper relationship or a strong friendship. They hope to have an open conversation about the letter and respect the recipient's decision.\n",
      "\n",
      "**Turkish Translation:**\n",
      "\n",
      "**Özet:**\n",
      "\n",
      "Yazar, uygulamalı fizikteki akademik başarılarını takdir ettiği bir kişiye yazıyor. Duygularının hayranlığın ötesine geçtiğini ve artık o kişiye aşık olduğunu ifade ediyor. Alıcının hedeflerine saygı duyuyor ve duyguları karşılıklı olmasa bile duyguları hakkında açık olmak istiyor. Yazar, alıcının kararı ne olursa olsun, ister daha derin bir ilişkiye ister güçlü bir dostluğa yol açsın, desteğini ifade ediyor. Mektup hakkında açık bir konuşma yapmayı umuyor ve alıcının kararına saygı duyuyor.\n",
      "\n"
     ]
    }
   ],
   "source": [
    "# Stuff Documentation Chain:\n",
    "from pypdf import PdfReader\n",
    "from langchain.docstore.document import Document\n",
    "from langchain.chains.summarize import load_summarize_chain\n",
    "from langchain.prompts.chat import ChatPromptTemplate\n",
    "\n",
    "# Load the PDF content\n",
    "pdfReader = PdfReader(\"Proposal.pdf\")\n",
    "text = \"\"\n",
    "\n",
    "for i, page in enumerate(pdfReader.pages):\n",
    "    content = page.extract_text()\n",
    "    if content:\n",
    "        text += content\n",
    "\n",
    "# Create a Document object\n",
    "document = [Document(page_content=text)]\n",
    "\n",
    "# Define the prompt template\n",
    "prompt = ChatPromptTemplate.from_messages([\n",
    "    (\"system\", \"You are a helpful assistant to summarize text.\"),\n",
    "    (\"human\", \"\"\"\n",
    "    Please provide a short concise summary of the following document: \\nTEXT: {docs}\n",
    "    & translate into {language} language\n",
    "    \"\"\"),\n",
    "])\n",
    "\n",
    "# Load the summarization chain, ensuring document_variable_name matches the input variable in the prompt\n",
    "chain = load_summarize_chain(\n",
    "    llm=llm,\n",
    "    chain_type=\"stuff\",\n",
    "    prompt=prompt,\n",
    "    document_variable_name=\"docs\",  # Ensure this matches the input variable in the prompt\n",
    "    verbose=False\n",
    ")\n",
    "\n",
    "# Invoke the chain with the document\n",
    "response = chain.invoke({\"input_documents\": document, \"language\" : \"Turkish\"})\n",
    "\n",
    "# Print the response\n",
    "print(response[\"output_text\"])\n"
   ]
  },
  {
   "cell_type": "code",
   "execution_count": 6,
   "metadata": {},
   "outputs": [
    {
     "name": "stdout",
     "output_type": "stream",
     "text": [
      "Okay, here's a combined concise summary of all the texts, followed by its Turkish translation:\n",
      "\n",
      "**Combined Summary:**\n",
      "\n",
      "This is a heartfelt letter from the sender to \"My Cute Hijabie,\" expressing deep admiration for her academic achievements, particularly in applied physics, and revealing the growth of romantic feelings over time. The sender acknowledges the challenges of distance and busy lives but felt compelled to share these feelings openly, emphasizing their respect for the recipient's intelligence, character, and goals. They prioritize the recipient's happiness and comfort, assuring them that their support will remain unwavering regardless of the recipient's response. The sender is open to a romantic relationship but also values their existing bond and is prepared to accept a continued friendship, emphasizing the importance of open communication, understanding, and the enduring family connection. The letter concludes with wishes for the recipient's happiness and success.\n",
      "\n",
      "**Turkish Translation of the Combined Summary:**\n",
      "\n",
      "Bu, göndericinin \"Sevimli Başörtülüm\"e yazdığı içten bir mektuptur. Mektupta, özellikle uygulamalı fizikteki akademik başarılarına duyulan derin hayranlık ve zamanla artan romantik duygular ifade ediliyor. Gönderici, mesafe ve yoğun yaşamların zorluklarını kabul ediyor, ancak bu duyguları açıkça paylaşma gereği duyarak, alıcının zekasına, karakterine ve hedeflerine duyduğu saygıyı vurguluyor. Alıcının mutluluğunu ve rahatını ön planda tutuyor, alıcının cevabı ne olursa olsun desteklerinin sarsılmaz kalacağını temin ediyor. Gönderici, romantik bir ilişkiye açık olmakla birlikte mevcut bağlarına da değer veriyor ve devam eden bir arkadaşlığı kabul etmeye hazır olduğunu belirtiyor. Açık iletişimin, anlayışın ve kalıcı aile bağının önemini vurguluyor. Mektup, alıcının mutluluğu ve başarısı dilekleriyle son buluyor.\n",
      "\n"
     ]
    }
   ],
   "source": [
    "# Map Reduce Summarization:\n",
    "from langchain.text_splitter import RecursiveCharacterTextSplitter\n",
    "from langchain.chains.summarize import load_summarize_chain\n",
    "from langchain.prompts.chat import ChatPromptTemplate\n",
    "\n",
    "# Split the text into chunks\n",
    "text_splitter = RecursiveCharacterTextSplitter(chunk_size=1000, chunk_overlap=200)\n",
    "chunks = text_splitter.create_documents(texts=[text])\n",
    "\n",
    "# Define the map prompt\n",
    "map_prompt = ChatPromptTemplate.from_messages([\n",
    "    (\"system\", \"You are a helpful assistant to summarize text.\"),\n",
    "    (\"human\", \"\"\"\n",
    "    Please provide a short concise summary of the following text:\n",
    "    TEXT: {text}\n",
    "    Also, translate the summary into {language}.\n",
    "    \"\"\"),\n",
    "])\n",
    "\n",
    "# Define the reduce prompt\n",
    "reduce_prompt = ChatPromptTemplate.from_messages([\n",
    "    (\"system\", \"You are a helpful assistant to summarize text.\"),\n",
    "    (\"human\", \"\"\"\n",
    "    Combine the following summaries into a single concise summary:\n",
    "    TEXT: {text}\n",
    "    Also, translate the combined summary into {language}.\n",
    "    \"\"\"),\n",
    "])\n",
    "\n",
    "# Load the summarization chain\n",
    "chain = load_summarize_chain(\n",
    "    llm=llm,\n",
    "    chain_type=\"map_reduce\",\n",
    "    map_prompt=map_prompt,\n",
    "    combine_prompt=reduce_prompt,\n",
    "    verbose=False,\n",
    ")\n",
    "\n",
    "# Prepare inputs for the chain\n",
    "inputs = {\n",
    "    \"input_documents\": chunks,\n",
    "    \"language\": \"Turkish\"\n",
    "}\n",
    "\n",
    "# Invoke the chain with the inputs\n",
    "response = chain.invoke(inputs)\n",
    "\n",
    "# Print the output summary\n",
    "print(response[\"output_text\"])"
   ]
  },
  {
   "cell_type": "code",
   "execution_count": 7,
   "metadata": {},
   "outputs": [
    {
     "name": "stderr",
     "output_type": "stream",
     "text": [
      "C:\\Users\\Dell\\AppData\\Local\\Temp\\ipykernel_19132\\337215907.py:34: LangChainDeprecationWarning: The class `LLMChain` was deprecated in LangChain 0.1.17 and will be removed in 1.0. Use :meth:`~RunnableSequence, e.g., `prompt | llm`` instead.\n",
      "  map_chain = LLMChain(llm=llm, prompt=map_prompt)\n",
      "C:\\Users\\Dell\\AppData\\Local\\Temp\\ipykernel_19132\\337215907.py:38: LangChainDeprecationWarning: This class is deprecated. Please see the migration guide here for a recommended replacement: https://python.langchain.com/docs/versions/migrating_chains/refine_docs_chain/\n",
      "  chain = RefineDocumentsChain(\n",
      "C:\\Users\\Dell\\AppData\\Local\\Temp\\ipykernel_19132\\337215907.py:53: LangChainDeprecationWarning: The method `Chain.__call__` was deprecated in langchain 0.1.0 and will be removed in 1.0. Use :meth:`~invoke` instead.\n",
      "  response = chain(inputs)\n"
     ]
    },
    {
     "name": "stdout",
     "output_type": "stream",
     "text": [
      "\n",
      "\n",
      "\u001b[1m> Entering new RefineDocumentsChain chain...\u001b[0m\n",
      "\n",
      "\u001b[1m> Finished chain.\u001b[0m\n",
      "Okay, here's the combined summary and its Turkish translation:\n",
      "\n",
      "**Combined Summary:**\n",
      "\n",
      "This letter emphasizes the importance of the family bond and expresses a desire to maintain it. The author invites open communication and values the recipient's feelings and opinions. They conclude by thanking the recipient for reading the letter and wishing them happiness and success, regardless of future circumstances.\n",
      "\n",
      "**Turkish Translation:**\n",
      "\n",
      "Bu mektup, aile bağının önemini vurguluyor ve bu bağı koruma arzusunu ifade ediyor. Yazar, açık iletişime davet ediyor ve alıcının duygu ve düşüncelerine değer veriyor. Mektubu okuduğu için alıcıya teşekkür ederek ve gelecekteki koşullar ne olursa olsun onlara mutluluk ve başarı dileyerek sonlandırıyor.\n",
      "\n"
     ]
    }
   ],
   "source": [
    "# Refine Summarization:\n",
    "from langchain.prompts import PromptTemplate\n",
    "from langchain.chains import LLMChain\n",
    "from langchain.chains.combine_documents.refine import RefineDocumentsChain\n",
    "from langchain.text_splitter import RecursiveCharacterTextSplitter\n",
    "\n",
    "# Split the text into chunks\n",
    "text_splitter = RecursiveCharacterTextSplitter(chunk_size=1000, chunk_overlap=200)\n",
    "chunks = text_splitter.create_documents(texts=[text])\n",
    "\n",
    "# Define the map prompt\n",
    "map_prompt = PromptTemplate(\n",
    "    input_variables=[\"text\", \"language\"],\n",
    "    template=\"\"\"\n",
    "    You are a helpful assistant. Your task is to summarize and translate the given text.\n",
    "    1. Summarize the following text into a short and concise summary.\n",
    "    2. Translate the summary into {language}.\n",
    "    TEXT: {text}\n",
    "    \"\"\"\n",
    ")\n",
    "\n",
    "# Define the reduce (refine) prompt\n",
    "reduce_prompt = PromptTemplate(\n",
    "    input_variables=[\"text\", \"language\"],\n",
    "    template=\"\"\"\n",
    "    You are a helpful assistant. Your task is to combine summaries and translate them.\n",
    "    1. Combine the following summaries into one concise and coherent summary.\n",
    "    2. Translate the final summary into {language}.\n",
    "    TEXT: {text}\n",
    "    \"\"\"\n",
    ")\n",
    "\n",
    "# Create the LLM chains for map and refine steps\n",
    "map_chain = LLMChain(llm=llm, prompt=map_prompt)\n",
    "refine_chain = LLMChain(llm=llm, prompt=reduce_prompt)\n",
    "\n",
    "# Create the RefineDocumentsChain\n",
    "chain = RefineDocumentsChain(\n",
    "    initial_llm_chain=map_chain,\n",
    "    refine_llm_chain=refine_chain,\n",
    "    document_variable_name=\"text\",\n",
    "    initial_response_name=\"output_text\",\n",
    "    verbose=True,\n",
    ")\n",
    "\n",
    "# Prepare inputs for the chain\n",
    "inputs = {\n",
    "    \"input_documents\": chunks,\n",
    "    \"language\": \"Turkish\"\n",
    "}\n",
    "\n",
    "# Run the chain\n",
    "response = chain(inputs)\n",
    "\n",
    "# Print the output summary\n",
    "print(response[\"output_text\"])"
   ]
  },
  {
   "cell_type": "code",
   "execution_count": null,
   "metadata": {},
   "outputs": [],
   "source": []
  }
 ],
 "metadata": {
  "kernelspec": {
   "display_name": "open-service-uQHKusx_-py3.12",
   "language": "python",
   "name": "python3"
  },
  "language_info": {
   "codemirror_mode": {
    "name": "ipython",
    "version": 3
   },
   "file_extension": ".py",
   "mimetype": "text/x-python",
   "name": "python",
   "nbconvert_exporter": "python",
   "pygments_lexer": "ipython3",
   "version": "3.12.4"
  }
 },
 "nbformat": 4,
 "nbformat_minor": 2
}
