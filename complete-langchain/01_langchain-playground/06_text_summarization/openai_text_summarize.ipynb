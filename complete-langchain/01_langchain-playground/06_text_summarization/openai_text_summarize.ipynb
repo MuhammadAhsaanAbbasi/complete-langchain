{
 "cells": [
  {
   "cell_type": "code",
   "execution_count": 69,
   "metadata": {},
   "outputs": [],
   "source": [
    "# Basic Prompt Text Summarization\n",
    "import os\n",
    "from dotenv import load_dotenv\n",
    "from langchain_openai import ChatOpenAI\n",
    "from langchain_core.messages import HumanMessage, AIMessage, SystemMessage\n",
    "from langchain.prompts import  ChatPromptTemplate\n",
    "from langchain_core.output_parsers import  StrOutputParser\n",
    "\n",
    "_ = load_dotenv()\n",
    "\n",
    "speech = \"\"\"\n",
    "Today, I stand before you not just as the Prime Minister of Pakistan but as a \n",
    "representative of billions of people whose voices are often unheard. The world \n",
    "faces grave challenges—climate change, global inequality, and the erosion of human \n",
    "rights. In South Asia, peace remains elusive due to unresolved conflicts, particularly \n",
    "in Jammu and Kashmir, where people have been denied their right to self-determination. \n",
    "I urge this assembly to uphold justice and the principles of the United Nations Charter. \n",
    "Let us come together to combat injustice, protect our planet, and create a fairer world for future generations.\n",
    "\"\"\"\n",
    "llm = ChatOpenAI(model=\"gpt-4o-mini\")"
   ]
  },
  {
   "cell_type": "code",
   "execution_count": 70,
   "metadata": {},
   "outputs": [
    {
     "data": {
      "text/plain": [
       "'In his speech, the Prime Minister of Pakistan emphasizes his role as a voice for the marginalized and highlights critical global issues such as climate change, inequality, and human rights violations. He calls for collective action to address conflicts in South Asia, specifically in Jammu and Kashmir, advocating for justice and adherence to the United Nations Charter to foster a more equitable and sustainable future.'"
      ]
     },
     "execution_count": 70,
     "metadata": {},
     "output_type": "execute_result"
    }
   ],
   "source": [
    "prompt = ChatPromptTemplate.from_messages([\n",
    "    SystemMessage(content=\"You are a helpful assistant to summarize text.\"),\n",
    "    HumanMessage(content=f\"Please provide a short concise summary of the following speech: \\nTEXT: {speech}\"),\n",
    "])\n",
    "\n",
    "\n",
    "response = llm.invoke(prompt.format_messages())\n",
    "response.content"
   ]
  },
  {
   "cell_type": "code",
   "execution_count": 71,
   "metadata": {},
   "outputs": [
    {
     "data": {
      "text/plain": [
       "\"**Summary:**\\nThe Prime Minister of Pakistan speaks on behalf of marginalized voices worldwide, addressing significant global issues such as climate change, inequality, and human rights violations. He highlights the ongoing conflicts in South Asia, particularly in Jammu and Kashmir, and calls for the assembly to uphold justice and the UN Charter to foster a just and sustainable future.\\n\\n**Turkish Translation:**\\nPakistan Başbakanı, marjinalleşmiş seslerin temsilcisi olarak, iklim değişikliği, eşitsizlik ve insan hakları ihlalleri gibi önemli küresel sorunlara değiniyor. Özellikle Jammu ve Keşmir'deki devam eden çatışmalara dikkat çekiyor ve meclisi, adaleti savunmaya ve BM Şartı'na bağlı kalmaya çağırarak adil ve sürdürülebilir bir gelecek oluşturma çağrısında bulunuyor.\""
      ]
     },
     "execution_count": 71,
     "metadata": {},
     "output_type": "execute_result"
    }
   ],
   "source": [
    "# Prompt Template Summarization\n",
    "prompt = ChatPromptTemplate.from_messages([\n",
    "    (\"system\",\"You are a helpful assistant to summarize text.\"),\n",
    "    (\"human\", \"\"\"\n",
    "    Please provide a short concise summary of the following speech: \\nTEXT: {speech}\n",
    "    & translate the summary into {language} language\n",
    "    \"\"\"),\n",
    "])\n",
    "\n",
    "chain = prompt | llm\n",
    "\n",
    "response = chain.invoke({\"speech\": speech, \"language\": \"Turkish\"})\n",
    "response.content"
   ]
  },
  {
   "cell_type": "code",
   "execution_count": 72,
   "metadata": {},
   "outputs": [
    {
     "name": "stdout",
     "output_type": "stream",
     "text": [
      "**Summary:**\n",
      "\n",
      "The letter is an expression of admiration and evolving feelings from the sender towards the recipient, who is dedicated to her studies in applied physics. The sender praises her achievements and acknowledges the complexities of their relationship due to distance and personal commitments. They convey respect for her goals and express a desire for open communication, whether it leads to a deeper connection or remains a strong friendship. The sender emphasizes their support for her choices and hopes for future discussions, wishing her happiness and success regardless of the outcome.\n",
      "\n",
      "---\n",
      "\n",
      "**Turkish Translation:**\n",
      "\n",
      "**Özet:**\n",
      "\n",
      "Mektup, gönderenin alıcıya karşı duyduğu hayranlık ve gelişen hisleri ifade etmektedir. Alıcının uygulamalı fizik alanındaki çalışmalarına olan bağlılığı övülmekte ve onun başarıları takdir edilmektedir. Gönderen, aralarındaki mesafe ve kişisel taahhütler nedeniyle ilişkilerinin karmaşıklığını kabul eder. Alıcının hedeflerine saygı göstererek açık bir iletişim isteğini dile getirir ve bu iletişimin derin bir bağlantıya veya güçlü bir arkadaşlığa yol açmasını umar. Gönderen, alıcının seçimlerine olan desteğini vurgulamakta ve sonuç ne olursa olsun, onun mutluluğu ve başarısı için iyi dileklerde bulunmaktadır.\n"
     ]
    }
   ],
   "source": [
    "# Stuff Documentation Chain:\n",
    "from pypdf import PdfReader\n",
    "from langchain.docstore.document import Document\n",
    "from langchain.chains.summarize import load_summarize_chain\n",
    "from langchain.prompts.chat import ChatPromptTemplate\n",
    "\n",
    "# Load the PDF content\n",
    "pdfReader = PdfReader(\"Proposal.pdf\")\n",
    "text = \"\"\n",
    "\n",
    "for i, page in enumerate(pdfReader.pages):\n",
    "    content = page.extract_text()\n",
    "    if content:\n",
    "        text += content\n",
    "\n",
    "# Create a Document object\n",
    "document = [Document(page_content=text)]\n",
    "\n",
    "# Define the prompt template\n",
    "prompt = ChatPromptTemplate.from_messages([\n",
    "    (\"system\", \"You are a helpful assistant to summarize text.\"),\n",
    "    (\"human\", \"\"\"\n",
    "    Please provide a short concise summary of the following document: \\nTEXT: {docs}\n",
    "    & translate into {language} language\n",
    "    \"\"\"),\n",
    "])\n",
    "\n",
    "# Load the summarization chain, ensuring document_variable_name matches the input variable in the prompt\n",
    "chain = load_summarize_chain(\n",
    "    llm=llm,\n",
    "    chain_type=\"stuff\",\n",
    "    prompt=prompt,\n",
    "    document_variable_name=\"docs\",  # Ensure this matches the input variable in the prompt\n",
    "    verbose=False\n",
    ")\n",
    "\n",
    "# Invoke the chain with the document\n",
    "response = chain.invoke({\"input_documents\": document, \"language\" : \"Turkish\"})\n",
    "\n",
    "# Print the response\n",
    "print(response[\"output_text\"])\n"
   ]
  },
  {
   "cell_type": "code",
   "execution_count": 73,
   "metadata": {},
   "outputs": [
    {
     "name": "stdout",
     "output_type": "stream",
     "text": [
      "**Combined Summary:**  \n",
      "The writer expresses admiration for the recipient's dedication and achievements in applied physics while acknowledging their deepening feelings for them. They emphasize the importance of open communication and respect for the recipient's goals and choices, highlighting their intelligence and character. The writer conveys unwavering support for the recipient's happiness and comfort, valuing family bonds above all. They invite the recipient to share their thoughts and conclude with well wishes for their success.\n",
      "\n",
      "**Turkish Translation:**  \n",
      "Yazar, alıcının uygulamalı fizik alanındaki özverisi ve başarıları için hayranlık duyduğunu ifade ederken, onlara karşı duygularının derinleştiğini kabul ediyor. Açık iletişimin ve alıcının hedeflerine ve seçimlerine saygının önemini vurguluyor, zekalarını ve karakterlerini öne çıkarıyor. Yazar, alıcının mutluluğu ve rahatlığı için sarsılmaz bir destek sunduğunu, aile bağlarını her şeyin üzerinde değerlendirdiğini belirtiyor. Alıcıyı düşüncelerini paylaşmaya davet ediyor ve başarıları için iyi dileklerle mektubu sonlandırıyor.\n"
     ]
    }
   ],
   "source": [
    "# Map Reduce Summarization:\n",
    "from langchain.text_splitter import RecursiveCharacterTextSplitter\n",
    "from langchain.chains.summarize import load_summarize_chain\n",
    "from langchain.prompts.chat import ChatPromptTemplate\n",
    "\n",
    "# Split the text into chunks\n",
    "text_splitter = RecursiveCharacterTextSplitter(chunk_size=1000, chunk_overlap=200)\n",
    "chunks = text_splitter.create_documents(texts=[text])\n",
    "\n",
    "# Define the map prompt\n",
    "map_prompt = ChatPromptTemplate.from_messages([\n",
    "    (\"system\", \"You are a helpful assistant to summarize text.\"),\n",
    "    (\"human\", \"\"\"\n",
    "    Please provide a short concise summary of the following text:\n",
    "    TEXT: {text}\n",
    "    Also, translate the summary into {language}.\n",
    "    \"\"\"),\n",
    "])\n",
    "\n",
    "# Define the reduce prompt\n",
    "reduce_prompt = ChatPromptTemplate.from_messages([\n",
    "    (\"system\", \"You are a helpful assistant to summarize text.\"),\n",
    "    (\"human\", \"\"\"\n",
    "    Combine the following summaries into a single concise summary:\n",
    "    TEXT: {text}\n",
    "    Also, translate the combined summary into {language}.\n",
    "    \"\"\"),\n",
    "])\n",
    "\n",
    "# Load the summarization chain\n",
    "chain = load_summarize_chain(\n",
    "    llm=llm,\n",
    "    chain_type=\"map_reduce\",\n",
    "    map_prompt=map_prompt,\n",
    "    combine_prompt=reduce_prompt,\n",
    "    verbose=False,\n",
    ")\n",
    "\n",
    "# Prepare inputs for the chain\n",
    "inputs = {\n",
    "    \"input_documents\": chunks,\n",
    "    \"language\": \"Turkish\"\n",
    "}\n",
    "\n",
    "# Invoke the chain with the inputs\n",
    "response = chain.invoke(inputs)\n",
    "\n",
    "# Print the output summary\n",
    "print(response[\"output_text\"])\n"
   ]
  },
  {
   "cell_type": "code",
   "execution_count": 74,
   "metadata": {},
   "outputs": [
    {
     "name": "stdout",
     "output_type": "stream",
     "text": [
      "\n",
      "\n",
      "\u001b[1m> Entering new RefineDocumentsChain chain...\u001b[0m\n",
      "\n",
      "\u001b[1m> Finished chain.\u001b[0m\n",
      "**Combined Summary:**\n",
      "\n",
      "The writer expresses the importance of family bonds and emphasizes their desire to maintain a strong relationship without jeopardizing it. They hope the letter encourages further dialogue and understanding, inviting the recipient to share any thoughts or concerns. The writer values the recipient's feelings and extends best wishes for their happiness, success, and fulfillment in life.\n",
      "\n",
      "**Turkish Translation:**\n",
      "\n",
      "Yazarı, aile bağlarının önemini vurguluyor ve güçlü bir ilişkiyi sürdürme arzusunu ifade ediyor. Mektubun daha fazla diyalog ve anlayış teşvik etmesini umuyor ve alıcıyı düşüncelerini veya endişelerini paylaşmaya davet ediyor. Yazar, alıcının duygularını önemsiyor ve hayatında mutluluk, başarı ve tatmin dileklerini iletiyor.\n"
     ]
    }
   ],
   "source": [
    "# Refine Summarization:\n",
    "from langchain.prompts import PromptTemplate\n",
    "from langchain.chains import LLMChain\n",
    "from langchain.chains.combine_documents.refine import RefineDocumentsChain\n",
    "from langchain.text_splitter import RecursiveCharacterTextSplitter\n",
    "\n",
    "# Split the text into chunks\n",
    "text_splitter = RecursiveCharacterTextSplitter(chunk_size=1000, chunk_overlap=200)\n",
    "chunks = text_splitter.create_documents(texts=[text])\n",
    "\n",
    "# Define the map prompt\n",
    "map_prompt = PromptTemplate(\n",
    "    input_variables=[\"text\", \"language\"],\n",
    "    template=\"\"\"\n",
    "    You are a helpful assistant. Your task is to summarize and translate the given text.\n",
    "    1. Summarize the following text into a short and concise summary.\n",
    "    2. Translate the summary into {language}.\n",
    "    TEXT: {text}\n",
    "    \"\"\"\n",
    ")\n",
    "\n",
    "# Define the reduce (refine) prompt\n",
    "reduce_prompt = PromptTemplate(\n",
    "    input_variables=[\"text\", \"language\"],\n",
    "    template=\"\"\"\n",
    "    You are a helpful assistant. Your task is to combine summaries and translate them.\n",
    "    1. Combine the following summaries into one concise and coherent summary.\n",
    "    2. Translate the final summary into {language}.\n",
    "    TEXT: {text}\n",
    "    \"\"\"\n",
    ")\n",
    "\n",
    "# Create the LLM chains for map and refine steps\n",
    "map_chain = LLMChain(llm=llm, prompt=map_prompt)\n",
    "refine_chain = LLMChain(llm=llm, prompt=reduce_prompt)\n",
    "\n",
    "# Create the RefineDocumentsChain\n",
    "chain = RefineDocumentsChain(\n",
    "    initial_llm_chain=map_chain,\n",
    "    refine_llm_chain=refine_chain,\n",
    "    document_variable_name=\"text\",\n",
    "    initial_response_name=\"output_text\",\n",
    "    verbose=True,\n",
    ")\n",
    "\n",
    "# Prepare inputs for the chain\n",
    "inputs = {\n",
    "    \"input_documents\": chunks,\n",
    "    \"language\": \"Turkish\"\n",
    "}\n",
    "\n",
    "# Run the chain\n",
    "response = chain(inputs)\n",
    "\n",
    "# Print the output summary\n",
    "print(response[\"output_text\"])\n"
   ]
  },
  {
   "cell_type": "code",
   "execution_count": null,
   "metadata": {},
   "outputs": [],
   "source": []
  }
 ],
 "metadata": {
  "kernelspec": {
   "display_name": "open-service-uQHKusx_-py3.12",
   "language": "python",
   "name": "python3"
  },
  "language_info": {
   "codemirror_mode": {
    "name": "ipython",
    "version": 3
   },
   "file_extension": ".py",
   "mimetype": "text/x-python",
   "name": "python",
   "nbconvert_exporter": "python",
   "pygments_lexer": "ipython3",
   "version": "3.12.4"
  }
 },
 "nbformat": 4,
 "nbformat_minor": 2
}
