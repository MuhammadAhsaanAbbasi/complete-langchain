{
 "cells": [
  {
   "cell_type": "code",
   "execution_count": 1,
   "metadata": {},
   "outputs": [],
   "source": [
    "from langgraph.graph import StateGraph, START, END\n",
    "from typing import TypedDict\n",
    "\n",
    "class State(TypedDict):\n",
    "    graph_state: str\n"
   ]
  },
  {
   "cell_type": "code",
   "execution_count": 2,
   "metadata": {},
   "outputs": [],
   "source": [
    "def node1(state):\n",
    "    print(\"node1\")\n",
    "    return {\"graph_state\" : state[\"graph_state\"] + \"I'm\"}\n",
    "\n",
    "def node2(state):\n",
    "    print(\"node1\")\n",
    "    return {\"graph_state\" : state[\"graph_state\"] + \" Happy!\"}\n",
    "\n",
    "def node3(state):\n",
    "    print(\"node1\")\n",
    "    return {\"graph_state\" : state[\"graph_state\"] + \" Sad!\"}"
   ]
  },
  {
   "cell_type": "code",
   "execution_count": 3,
   "metadata": {},
   "outputs": [],
   "source": [
    "import random\n",
    "from typing import Literal\n",
    "\n",
    "def decide_moode(state) -> Literal[\"node2\", \"node3\"] :\n",
    "\n",
    "    user_input = state[\"graph_state\"]\n",
    "\n",
    "    # Check the random value\n",
    "    if random.random() > 0.6:\n",
    "        return \"node2\"\n",
    "    \n",
    "    return \"node3\""
   ]
  },
  {
   "cell_type": "code",
   "execution_count": 4,
   "metadata": {},
   "outputs": [],
   "source": [
    "builder = StateGraph(State)\n",
    "builder.add_node(\"node1\", node1)\n",
    "builder.add_node(\"node2\", node2)\n",
    "builder.add_node(\"node3\", node3)\n",
    "\n",
    "builder.add_edge(START, \"node1\")\n",
    "builder.add_conditional_edges(\"node1\", decide_moode)\n",
    "builder.add_edge(\"node2\", END)\n",
    "builder.add_edge(\"node3\", END)\n",
    "\n",
    "graph = builder.compile()"
   ]
  },
  {
   "cell_type": "code",
   "execution_count": 5,
   "metadata": {},
   "outputs": [
    {
     "data": {
      "image/jpeg": "[encoded data removed]",
      "text/plain": [
       "<IPython.core.display.Image object>"
      ]
     },
     "metadata": {},
     "output_type": "display_data"
    }
   ],
   "source": [
    "from IPython.display import display, Image\n",
    "\n",
    "display(Image(graph.get_graph().draw_mermaid_png()))"
   ]
  },
  {
   "cell_type": "code",
   "execution_count": 6,
   "metadata": {},
   "outputs": [
    {
     "name": "stdout",
     "output_type": "stream",
     "text": [
      "node1\n",
      "node1\n"
     ]
    },
    {
     "data": {
      "text/plain": [
       "{'graph_state': \"Hi, This is HarryI'm Sad!\"}"
      ]
     },
     "execution_count": 6,
     "metadata": {},
     "output_type": "execute_result"
    }
   ],
   "source": [
    "graph.invoke({\"graph_state\" : \"Hi, This is Harry\"})"
   ]
  },
  {
   "cell_type": "code",
   "execution_count": null,
   "metadata": {},
   "outputs": [],
   "source": []
  }
 ],
 "metadata": {
  "kernelspec": {
   "display_name": "open-service-uQHKusx_-py3.12",
   "language": "python",
   "name": "python3"
  },
  "language_info": {
   "codemirror_mode": {
    "name": "ipython",
    "version": 3
   },
   "file_extension": ".py",
   "mimetype": "text/x-python",
   "name": "python",
   "nbconvert_exporter": "python",
   "pygments_lexer": "ipython3",
   "version": "3.12.4"
  }
 },
 "nbformat": 4,
 "nbformat_minor": 2
}
