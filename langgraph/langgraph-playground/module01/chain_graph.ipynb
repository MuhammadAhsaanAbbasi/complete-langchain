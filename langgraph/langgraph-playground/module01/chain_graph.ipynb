{
 "cells": [
  {
   "cell_type": "code",
   "execution_count": 8,
   "metadata": {},
   "outputs": [
    {
     "name": "stdout",
     "output_type": "stream",
     "text": [
      "==================================\u001b[1m Ai Message \u001b[0m==================================\n",
      "Name: Model\n",
      "\n",
      "So You Said you were Research on Wild Animals\n",
      "================================\u001b[1m Human Message \u001b[0m=================================\n",
      "Name: Hijab\n",
      "\n",
      "Yeah that's right\n",
      "==================================\u001b[1m Ai Message \u001b[0m==================================\n",
      "Name: Model\n",
      "\n",
      "Great, Would you like to learn more about Wild Animals\n",
      "================================\u001b[1m Human Message \u001b[0m=================================\n",
      "Name: Hijab\n",
      "\n",
      "I want to learn about the best places to see leopard in the World\n"
     ]
    }
   ],
   "source": [
    "from langgraph.graph import StateGraph, START, END\n",
    "from pprint import pprint\n",
    "from langchain_core.messages import HumanMessage, AIMessage, SystemMessage, AnyMessage\n",
    "\n",
    "messages = [AIMessage(content=f\"So You Said you were Research on Wild Animals\", name=\"Model\")]\n",
    "messages.extend([HumanMessage(content=f\"Yeah that's right\", name=\"Hijab\")])\n",
    "messages.extend([AIMessage(content=f\"Great, Would you like to learn more about Wild Animals\", name=\"Model\")])\n",
    "messages.extend([HumanMessage(content=f\"I want to learn about the best places to see leopard in the World\", name=\"Hijab\")])\n",
    "\n",
    "for m in messages:\n",
    "    m.pretty_print()"
   ]
  },
  {
   "cell_type": "code",
   "execution_count": 2,
   "metadata": {},
   "outputs": [
    {
     "data": {
      "text/plain": [
       "True"
      ]
     },
     "execution_count": 2,
     "metadata": {},
     "output_type": "execute_result"
    }
   ],
   "source": [
    "from dotenv import load_dotenv\n",
    "from langchain_openai import ChatOpenAI\n",
    "\n",
    "load_dotenv()"
   ]
  },
  {
   "cell_type": "code",
   "execution_count": 3,
   "metadata": {},
   "outputs": [
    {
     "name": "stdout",
     "output_type": "stream",
     "text": [
      "('Leopards are elusive and beautiful big cats that can be found in various '\n",
      " 'parts of the world. Here are some of the best places to see leopards in '\n",
      " 'their natural habitat:\\n'\n",
      " '\\n'\n",
      " '1. **Yala National Park, Sri Lanka**: Yala is one of the best places to see '\n",
      " 'leopards in the wild. The park has a high density of leopards, and sightings '\n",
      " 'are relatively common.\\n'\n",
      " '\\n'\n",
      " '2. **Kruger National Park, South Africa**: This iconic park is home to a '\n",
      " 'diverse range of wildlife, including leopards. The Sabi Sands Game Reserve, '\n",
      " 'adjacent to Kruger, is particularly known for excellent leopard sightings.\\n'\n",
      " '\\n'\n",
      " '3. **Masai Mara National Reserve, Kenya**: The Masai Mara is famous for its '\n",
      " 'wildlife and offers good opportunities to see leopards, especially during '\n",
      " 'the Great Migration when prey is abundant.\\n'\n",
      " '\\n'\n",
      " '4. **Bandhavgarh National Park, India**: While Bandhavgarh is known for its '\n",
      " 'tiger population, leopards are also frequently spotted here, especially in '\n",
      " 'the more remote areas of the park.\\n'\n",
      " '\\n'\n",
      " '5. **Kanha National Park, India**: Another great location in India, Kanha is '\n",
      " 'home to a healthy population of leopards, and sightings can occur during '\n",
      " 'safaris.\\n'\n",
      " '\\n'\n",
      " '6. **Chobe National Park, Botswana**: Chobe is known for its large elephant '\n",
      " 'population, but leopards can also be seen, particularly near the '\n",
      " 'riverbanks.\\n'\n",
      " '\\n'\n",
      " '7. **Selous Game Reserve, Tanzania**: This vast reserve is less crowded than '\n",
      " 'some other parks and offers a chance to see leopards in a more remote '\n",
      " 'setting.\\n'\n",
      " '\\n'\n",
      " '8. **Sundarbans, India/Bangladesh**: The Sundarbans mangrove forest is home '\n",
      " 'to the elusive Sundarbans tiger, but leopards can also be found in this '\n",
      " 'unique ecosystem.\\n'\n",
      " '\\n'\n",
      " '9. **Kgalagadi Transfrontier Park, South Africa/Botswana**: This semi-arid '\n",
      " 'park is known for its stunning landscapes and wildlife, including leopards.\\n'\n",
      " '\\n'\n",
      " '10. **Etosha National Park, Namibia**: While leopards are not as commonly '\n",
      " 'seen as in some other parks, they do inhabit Etosha, and sightings can '\n",
      " 'occur, especially near waterholes.\\n'\n",
      " '\\n'\n",
      " \"When planning a trip to see leopards, it's essential to choose the right \"\n",
      " 'time of year and consider guided safaris for the best chances of sightings.')\n"
     ]
    }
   ],
   "source": [
    "llm = ChatOpenAI(model=\"gpt-4o-mini\", temperature=0.2)\n",
    "response = llm.invoke(messages)\n",
    "\n",
    "pprint(response.content)"
   ]
  },
  {
   "cell_type": "code",
   "execution_count": 5,
   "metadata": {},
   "outputs": [],
   "source": [
    "def Multiply(a:int, b:int):\n",
    "    \"\"\"Multiply A & B\n",
    "\n",
    "    Args:\n",
    "        a: first int\n",
    "        b: second int\n",
    "    \"\"\"\n",
    "    return a * b\n",
    "\n",
    "llm_tools = llm.bind_tools([Multiply])"
   ]
  },
  {
   "cell_type": "code",
   "execution_count": 7,
   "metadata": {},
   "outputs": [
    {
     "data": {
      "text/plain": [
       "AIMessage(content='', additional_kwargs={'tool_calls': [{'id': 'call_Z3NymcZTOqEq41mxYDnFVfnk', 'function': {'arguments': '{\"a\": 2, \"b\": 3}', 'name': 'Multiply'}, 'type': 'function'}, {'id': 'call_UrZSxzOJ34KfCG3UHqoRC2w3', 'function': {'arguments': '{\"a\": 3, \"b\": 2}', 'name': 'Multiply'}, 'type': 'function'}], 'refusal': None}, response_metadata={'token_usage': {'completion_tokens': 52, 'prompt_tokens': 64, 'total_tokens': 116, 'completion_tokens_details': {'audio_tokens': 0, 'reasoning_tokens': 0, 'accepted_prediction_tokens': 0, 'rejected_prediction_tokens': 0}, 'prompt_tokens_details': {'audio_tokens': 0, 'cached_tokens': 0}}, 'model_name': 'gpt-4o-mini-2024-07-18', 'system_fingerprint': 'fp_0ba0d124f1', 'finish_reason': 'tool_calls', 'logprobs': None}, id='run-c81731b0-cdff-4bba-b7b6-0aa89443c9bd-0', tool_calls=[{'name': 'Multiply', 'args': {'a': 2, 'b': 3}, 'id': 'call_Z3NymcZTOqEq41mxYDnFVfnk', 'type': 'tool_call'}, {'name': 'Multiply', 'args': {'a': 3, 'b': 2}, 'id': 'call_UrZSxzOJ34KfCG3UHqoRC2w3', 'type': 'tool_call'}], usage_metadata={'input_tokens': 64, 'output_tokens': 52, 'total_tokens': 116, 'input_token_details': {'audio': 0, 'cache_read': 0}, 'output_token_details': {'audio': 0, 'reasoning': 0}})"
      ]
     },
     "execution_count": 7,
     "metadata": {},
     "output_type": "execute_result"
    }
   ],
   "source": [
    "tool_call = llm_tools.invoke([HumanMessage(\"What is Multiply by 2 & 3\", name=\"Hijab\")])\n",
    "tool_call"
   ]
  },
  {
   "cell_type": "code",
   "execution_count": 9,
   "metadata": {},
   "outputs": [],
   "source": [
    "from typing import Annotated, TypedDict\n",
    "from langgraph.graph.message import add_messages\n",
    "\n",
    "class MessagesState(TypedDict):\n",
    "    messages: Annotated[list[AnyMessage], add_messages]\n"
   ]
  },
  {
   "cell_type": "code",
   "execution_count": 10,
   "metadata": {},
   "outputs": [],
   "source": [
    "from langgraph.graph import MessagesState\n",
    "\n",
    "class State(MessagesState):\n",
    "    pass"
   ]
  },
  {
   "cell_type": "code",
   "execution_count": 11,
   "metadata": {},
   "outputs": [
    {
     "data": {
      "text/plain": [
       "[AIMessage(content='Hello! How can I assist you today?', additional_kwargs={}, response_metadata={}, name='Model', id='976a2fef-1fb5-41dd-a7d2-3f89a670cfb4'),\n",
       " HumanMessage(content=\"I'm looking Information on Applied Physics\", additional_kwargs={}, response_metadata={}, name='Hijab', id='92db1150-2cbb-4f4a-b0b0-cf5c1a06d3a5'),\n",
       " AIMessage(content='Sure! What specific information are you looking for?', additional_kwargs={}, response_metadata={}, name='Model', id='f8b5ddd2-1ff7-4f19-a28c-ef022c0266f1')]"
      ]
     },
     "execution_count": 11,
     "metadata": {},
     "output_type": "execute_result"
    }
   ],
   "source": [
    "initial_messages = [\n",
    "    AIMessage(content=\"Hello! How can I assist you today?\", name=\"Model\"),\n",
    "    HumanMessage(content=\"I'm looking Information on Applied Physics\", name=\"Hijab\")\n",
    "]\n",
    "\n",
    "new_message = AIMessage(content=\"Sure! What specific information are you looking for?\", name=\"Model\")\n",
    "\n",
    "add_messages(initial_messages, new_message)"
   ]
  },
  {
   "cell_type": "code",
   "execution_count": 12,
   "metadata": {},
   "outputs": [
    {
     "data": {
      "image/jpeg": "[encoded data removed]",
      "text/plain": [
       "<IPython.core.display.Image object>"
      ]
     },
     "metadata": {},
     "output_type": "display_data"
    }
   ],
   "source": [
    "from IPython.display import Image, display\n",
    "\n",
    "class MessagesState(MessagesState):\n",
    "    pass\n",
    "\n",
    "def tool_calling_llm(state: MessagesState):\n",
    "    return {\"messages\" : llm_tools.invoke(state[\"messages\"])}\n",
    "\n",
    "builder = StateGraph(MessagesState)\n",
    "\n",
    "builder.add_node(\"tool_calling_llm\", tool_calling_llm)\n",
    "\n",
    "builder.add_edge(START, \"tool_calling_llm\")\n",
    "\n",
    "builder.add_edge(\"tool_calling_llm\", END)\n",
    "\n",
    "graph = builder.compile()\n",
    "\n",
    "\n",
    "display(Image(graph.get_graph().draw_mermaid_png()))"
   ]
  },
  {
   "cell_type": "code",
   "execution_count": 14,
   "metadata": {},
   "outputs": [
    {
     "data": {
      "text/plain": [
       "{'messages': [HumanMessage(content='Hello!', additional_kwargs={}, response_metadata={}, id='3372ae9b-7118-421b-9679-fa847870e999'),\n",
       "  AIMessage(content='Hello! How can I assist you today?', additional_kwargs={'refusal': None}, response_metadata={'token_usage': {'completion_tokens': 10, 'prompt_tokens': 54, 'total_tokens': 64, 'completion_tokens_details': {'audio_tokens': 0, 'reasoning_tokens': 0, 'accepted_prediction_tokens': 0, 'rejected_prediction_tokens': 0}, 'prompt_tokens_details': {'audio_tokens': 0, 'cached_tokens': 0}}, 'model_name': 'gpt-4o-mini-2024-07-18', 'system_fingerprint': 'fp_0ba0d124f1', 'finish_reason': 'stop', 'logprobs': None}, id='run-dee44c82-f22d-4f83-b0c1-7834f9ff8fb4-0', usage_metadata={'input_tokens': 54, 'output_tokens': 10, 'total_tokens': 64, 'input_token_details': {'audio': 0, 'cache_read': 0}, 'output_token_details': {'audio': 0, 'reasoning': 0}})]}"
      ]
     },
     "execution_count": 14,
     "metadata": {},
     "output_type": "execute_result"
    }
   ],
   "source": [
    "response = graph.invoke({\"messages\" : HumanMessage(content=\"Hello!\")})\n",
    "\n",
    "response"
   ]
  },
  {
   "cell_type": "code",
   "execution_count": 15,
   "metadata": {},
   "outputs": [
    {
     "data": {
      "text/plain": [
       "{'messages': [HumanMessage(content='What is the Multiply of 2 & 3', additional_kwargs={}, response_metadata={}, id='6399bdc7-9b0a-4cc1-94a0-91c3c62e21c9'),\n",
       "  AIMessage(content='', additional_kwargs={'tool_calls': [{'id': 'call_eZRXaC21tandbPpVVzOKqgan', 'function': {'arguments': '{\"a\":2,\"b\":3}', 'name': 'Multiply'}, 'type': 'function'}], 'refusal': None}, response_metadata={'token_usage': {'completion_tokens': 18, 'prompt_tokens': 62, 'total_tokens': 80, 'completion_tokens_details': {'audio_tokens': 0, 'reasoning_tokens': 0, 'accepted_prediction_tokens': 0, 'rejected_prediction_tokens': 0}, 'prompt_tokens_details': {'audio_tokens': 0, 'cached_tokens': 0}}, 'model_name': 'gpt-4o-mini-2024-07-18', 'system_fingerprint': 'fp_0ba0d124f1', 'finish_reason': 'tool_calls', 'logprobs': None}, id='run-de8812b9-d999-4e4e-b9b8-7c6a9e8ad59f-0', tool_calls=[{'name': 'Multiply', 'args': {'a': 2, 'b': 3}, 'id': 'call_eZRXaC21tandbPpVVzOKqgan', 'type': 'tool_call'}], usage_metadata={'input_tokens': 62, 'output_tokens': 18, 'total_tokens': 80, 'input_token_details': {'audio': 0, 'cache_read': 0}, 'output_token_details': {'audio': 0, 'reasoning': 0}})]}"
      ]
     },
     "execution_count": 15,
     "metadata": {},
     "output_type": "execute_result"
    }
   ],
   "source": [
    "response = graph.invoke({\"messages\" : HumanMessage(content=\"What is the Multiply of 2 & 3\")})\n",
    "\n",
    "response"
   ]
  }
 ],
 "metadata": {
  "kernelspec": {
   "display_name": "open-service-uQHKusx_-py3.12",
   "language": "python",
   "name": "python3"
  },
  "language_info": {
   "codemirror_mode": {
    "name": "ipython",
    "version": 3
   },
   "file_extension": ".py",
   "mimetype": "text/x-python",
   "name": "python",
   "nbconvert_exporter": "python",
   "pygments_lexer": "ipython3",
   "version": "3.12.4"
  }
 },
 "nbformat": 4,
 "nbformat_minor": 2
}
