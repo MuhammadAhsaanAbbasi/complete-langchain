{
 "cells": [
  {
   "cell_type": "markdown",
   "metadata": {},
   "source": [
    "## Summarizing Chatbot w/f with Memory"
   ]
  },
  {
   "cell_type": "code",
   "execution_count": 1,
   "metadata": {},
   "outputs": [
    {
     "data": {
      "text/plain": [
       "True"
      ]
     },
     "execution_count": 1,
     "metadata": {},
     "output_type": "execute_result"
    }
   ],
   "source": [
    "from langgraph.graph import StateGraph, START, END\n",
    "from langchain_core.messages import HumanMessage, AIMessage,SystemMessage\n",
    "from langgraph.graph.message import MessagesState, RemoveMessage\n",
    "from dotenv import load_dotenv\n",
    "\n",
    "load_dotenv()"
   ]
  },
  {
   "cell_type": "code",
   "execution_count": 2,
   "metadata": {},
   "outputs": [],
   "source": [
    "from langchain_openai import ChatOpenAI\n",
    "\n",
    "llm = ChatOpenAI(model=\"gpt-4o-mini\", temperature=0.4)\n",
    "\n",
    "class State(MessagesState):\n",
    "    summary: str"
   ]
  },
  {
   "cell_type": "code",
   "execution_count": 3,
   "metadata": {},
   "outputs": [],
   "source": [
    "def chat_model(state:State):\n",
    "    summary = state.get(\"summary\", \"\")\n",
    "\n",
    "    if summary:\n",
    "        system_message = f\"Summary of the Conversation Earlier: {summary}\"\n",
    "        messages = [SystemMessage(content=system_message)] + state[\"messages\"]\n",
    "    else:\n",
    "        messages = state[\"messages\"]\n",
    "    \n",
    "    response = llm.invoke(messages)\n",
    "\n",
    "    return {\"messages\": response}"
   ]
  },
  {
   "cell_type": "code",
   "execution_count": 4,
   "metadata": {},
   "outputs": [],
   "source": [
    "def summarize_conversation(state:State):\n",
    "    summary = state.get(\"summary\", \"\")\n",
    "\n",
    "    if summary:\n",
    "        summary_message = (\n",
    "            f\"This Summary of the Conversation is to date: {summary} \\n\\n\",\n",
    "            \"Extend the Summary by taking into account the new messages above:\"\n",
    "        )\n",
    "    else:\n",
    "        summary_message = \"create a summary of the conversation above\"\n",
    "    \n",
    "    messages = state[\"messages\"] + [HumanMessage(content=summary_message)]\n",
    "\n",
    "    response = llm.invoke(messages)\n",
    "\n",
    "    deleted_messages = [RemoveMessage(msg.id) for msg in state[\"messages\"][:-2]]\n",
    "\n",
    "    return {\n",
    "        \"messages\": deleted_messages,\n",
    "        \"summary\": response.content\n",
    "    }"
   ]
  },
  {
   "cell_type": "code",
   "execution_count": 5,
   "metadata": {},
   "outputs": [],
   "source": [
    "\n",
    "def should_continue(state: State):\n",
    "    \"\"\"Return the Next Node to execute\"\"\"\n",
    "    messages = state[\"messages\"]\n",
    "\n",
    "    if len(messages) > 6:\n",
    "        return \"summarize_conversation\"\n",
    "    \n",
    "    return END\n"
   ]
  },
  {
   "cell_type": "code",
   "execution_count": 6,
   "metadata": {},
   "outputs": [
    {
     "data": {
      "image/jpeg": "[encoded data removed]",
      "text/plain": [
       "<IPython.core.display.Image object>"
      ]
     },
     "metadata": {},
     "output_type": "display_data"
    }
   ],
   "source": [
    "from IPython.display import display, Image\n",
    "from langgraph.checkpoint.memory import MemorySaver\n",
    "\n",
    "workflow = StateGraph(State)\n",
    "\n",
    "workflow.add_node(\"conversation\", chat_model)\n",
    "workflow.add_node(summarize_conversation)\n",
    "\n",
    "workflow.add_edge(START,\"conversation\")\n",
    "workflow.add_conditional_edges(\"conversation\", should_continue)\n",
    "workflow.add_edge(\"summarize_conversation\", END)\n",
    "\n",
    "memory = MemorySaver()\n",
    "graph = workflow.compile(checkpointer=memory)\n",
    "\n",
    "display(Image(graph.get_graph(xray=True).draw_mermaid_png()))"
   ]
  },
  {
   "cell_type": "code",
   "execution_count": 7,
   "metadata": {},
   "outputs": [
    {
     "name": "stdout",
     "output_type": "stream",
     "text": [
      "==================================\u001b[1m Ai Message \u001b[0m==================================\n",
      "\n",
      "Hi Hijabie! How can I assist you today?\n",
      "==================================\u001b[1m Ai Message \u001b[0m==================================\n",
      "\n",
      "Your name is Hijabie. How can I help you today?\n",
      "==================================\u001b[1m Ai Message \u001b[0m==================================\n",
      "\n",
      "The term \"white wolf\" can refer to several different concepts, depending on the context. Here are a few interpretations:\n",
      "\n",
      "1. **Animal**: The white wolf is often associated with the Arctic wolf (Canis lupus arctos), which has a thick white coat that helps it blend into its snowy environment. These wolves are found primarily in the Arctic regions of North America and Greenland. They are social animals that live in packs and are known for their hunting skills and adaptability to harsh climates.\n",
      "\n",
      "2. **Symbolism**: In many cultures, wolves, including white wolves, are seen as symbols of loyalty, guardianship, and intelligence. The color white often symbolizes purity, spirituality, and protection. In some Native American traditions, the white wolf is considered a powerful spirit animal, representing guidance and intuition.\n",
      "\n",
      "3. **Literature and Media**: The term \"white wolf\" may also refer to characters or themes in literature, movies, or video games. For example, in the \"The Witcher\" series, the protagonist Geralt of Rivia is often referred to as the \"White Wolf.\"\n",
      "\n",
      "4. **White Wolf Publishing**: This is a company known for creating tabletop role-playing games, particularly the \"World of Darkness\" series, which includes games like \"Vampire: The Masquerade\" and \"Werewolf: The Apocalypse.\" \n",
      "\n",
      "If you have a specific context in mind regarding \"white wolf,\" please let me know!\n"
     ]
    }
   ],
   "source": [
    "config = {\"configurable\" : {\"thread_id\" : \"1\"}}\n",
    "\n",
    "input_message = HumanMessage(content=\"Hi, this is Hijabie\")\n",
    "out_put = graph.invoke({\"messages\" : [input_message]}, config)\n",
    "for m in out_put[\"messages\"][-1:]:\n",
    "    m.pretty_print()\n",
    "\n",
    "input_message = HumanMessage(content=\"What is my Name?\")\n",
    "out_put = graph.invoke({\"messages\" : [input_message]}, config)\n",
    "for m in out_put[\"messages\"][-1:]:\n",
    "    m.pretty_print()\n",
    "\n",
    "input_message = HumanMessage(content=\"tell me about white Wolf?\")\n",
    "out_put = graph.invoke({\"messages\" : [input_message]}, config)\n",
    "for m in out_put[\"messages\"][-1:]:\n",
    "    m.pretty_print()"
   ]
  },
  {
   "cell_type": "code",
   "execution_count": 8,
   "metadata": {},
   "outputs": [
    {
     "data": {
      "text/plain": [
       "''"
      ]
     },
     "execution_count": 8,
     "metadata": {},
     "output_type": "execute_result"
    }
   ],
   "source": [
    "graph.get_state(config).values.get(\"summary\",\"\")"
   ]
  },
  {
   "cell_type": "code",
   "execution_count": 9,
   "metadata": {},
   "outputs": [
    {
     "name": "stdout",
     "output_type": "stream",
     "text": [
      "==================================\u001b[1m Ai Message \u001b[0m==================================\n",
      "\n",
      "The wolf holds a significant place in the history and culture of the Turkish peoples, particularly during the time of the Turkish Empire and its predecessors. Here are some key points about the role of wolves in Turkish history and mythology:\n",
      "\n",
      "1. **Mythological Significance**: In Turkic mythology, the wolf is often considered a sacred animal. The \"Grey Wolf\" (Kurt) is a prominent symbol of strength, courage, and loyalty. According to legend, the mythical ancestor of the Turks, Asena, was a she-wolf who helped a young boy survive and later gave birth to a line of descendants who became the Turks. This story emphasizes the wolf's role as a protector and a symbol of the Turkic identity.\n",
      "\n",
      "2. **Cultural Symbol**: The wolf is a recurring motif in Turkic art, folklore, and literature. It represents not only physical strength but also spiritual guidance and the connection to nature. The wolf's image is often used in various emblems and flags, symbolizing the unity and resilience of the Turkic peoples.\n",
      "\n",
      "3. **Military Associations**: During the time of the Seljuk Empire and later the Ottoman Empire, the wolf was sometimes used as a symbol for military units. The fierce and independent nature of wolves resonated with the warrior ethos of the Turkic tribes.\n",
      "\n",
      "4. **Modern Symbolism**: In contemporary Turkey, the wolf remains a powerful national symbol. The Grey Wolf (Bozkurt) is associated with the Nationalist Movement Party (MHP) and is often used in political and cultural contexts to evoke a sense of national pride and identity.\n",
      "\n",
      "5. **Folklore and Legends**: Various Turkish folk tales and legends feature wolves, often portraying them as wise and cunning creatures. These stories reflect the complex relationship between humans and nature in Turkish culture.\n",
      "\n",
      "Overall, the wolf has played a multifaceted role in the history and culture of the Turkish Empire and its descendants, symbolizing strength, survival, and a deep connection to heritage and identity.\n"
     ]
    }
   ],
   "source": [
    "input_message = HumanMessage(content=\"History of Wolf in Turkish Empire?\")\n",
    "out_put = graph.invoke({\"messages\" : [input_message]}, config)\n",
    "for m in out_put[\"messages\"][-1:]:\n",
    "    m.pretty_print()"
   ]
  },
  {
   "cell_type": "code",
   "execution_count": 10,
   "metadata": {},
   "outputs": [
    {
     "data": {
      "text/plain": [
       "'In our conversation, you first introduced yourself as Hijabie and then asked about the \"white wolf.\" I provided several interpretations of the term, including its reference to the Arctic wolf, its symbolic significance in various cultures, its representation in literature and media (notably in \"The Witcher\" series), and its association with White Wolf Publishing, known for tabletop role-playing games.\\n\\nYou then inquired about the history of the wolf in the Turkish Empire. I explained that the wolf, particularly the Grey Wolf, holds significant mythological and cultural importance for the Turkic peoples. It is associated with strength, courage, and loyalty, with legends like that of Asena, the she-wolf who is considered an ancestor of the Turks. The wolf has been used as a military symbol and continues to represent national pride in modern Turkey, particularly among nationalist groups. Additionally, I mentioned the presence of wolves in Turkish folklore, where they are often depicted as wise and cunning creatures.'"
      ]
     },
     "execution_count": 10,
     "metadata": {},
     "output_type": "execute_result"
    }
   ],
   "source": [
    "graph.get_state(config).values.get(\"summary\",\"\")"
   ]
  },
  {
   "cell_type": "code",
   "execution_count": null,
   "metadata": {},
   "outputs": [],
   "source": []
  }
 ],
 "metadata": {
  "kernelspec": {
   "display_name": "open-service-uQHKusx_-py3.12",
   "language": "python",
   "name": "python3"
  },
  "language_info": {
   "codemirror_mode": {
    "name": "ipython",
    "version": 3
   },
   "file_extension": ".py",
   "mimetype": "text/x-python",
   "name": "python",
   "nbconvert_exporter": "python",
   "pygments_lexer": "ipython3",
   "version": "3.12.4"
  }
 },
 "nbformat": 4,
 "nbformat_minor": 2
}
