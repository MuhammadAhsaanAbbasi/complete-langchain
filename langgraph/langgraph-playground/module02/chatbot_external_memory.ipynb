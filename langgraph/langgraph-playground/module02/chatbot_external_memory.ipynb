{
 "cells": [
  {
   "cell_type": "code",
   "execution_count": 1,
   "metadata": {},
   "outputs": [],
   "source": [
    "import sqlite3\n",
    "from langgraph.graph import StateGraph, START, END\n",
    "from langgraph.graph.message import MessagesState, RemoveMessage"
   ]
  },
  {
   "cell_type": "code",
   "execution_count": 2,
   "metadata": {},
   "outputs": [],
   "source": [
    "# !mkdir -p state_db && [ ! -f state_db/example.db ] && wget -P state_db https://github.com/langchain-ai/langchain-academy/raw/main/module-2/state_db/example.db\n",
    "\n",
    "db_path = \"state_db/example.db\"\n",
    "conn = sqlite3.connect(db_path, check_same_thread=False)"
   ]
  },
  {
   "cell_type": "code",
   "execution_count": 3,
   "metadata": {},
   "outputs": [],
   "source": [
    "# Here is our checkpointer \n",
    "from langgraph.checkpoint.sqlite import SqliteSaver\n",
    "memory = SqliteSaver(conn)"
   ]
  },
  {
   "cell_type": "code",
   "execution_count": 4,
   "metadata": {},
   "outputs": [],
   "source": [
    "from langchain_openai import ChatOpenAI\n",
    "\n",
    "llm = ChatOpenAI(model=\"gpt-4o-mini\", temperature=0.4)\n",
    "\n",
    "class State(MessagesState):\n",
    "    summary: str"
   ]
  },
  {
   "cell_type": "code",
   "execution_count": 5,
   "metadata": {},
   "outputs": [],
   "source": [
    "from langchain_core.messages import SystemMessage, HumanMessage\n",
    "\n",
    "def call_model(state: State):\n",
    "    summary = state.get(\"summary\",\"\")\n",
    "    if summary:\n",
    "        sys_msg = f\"Summary of the Conversation Earlier: {summary}\"\n",
    "        messages = [SystemMessage(content=sys_msg)] + state[\"messages\"]\n",
    "    else:\n",
    "        messages = state[\"messages\"]\n",
    "    \n",
    "    response = llm.invoke(messages)\n",
    "\n",
    "    return {\"messages\" : response}"
   ]
  },
  {
   "cell_type": "code",
   "execution_count": 6,
   "metadata": {},
   "outputs": [],
   "source": [
    "def summarize_conversation(state:State):\n",
    "    summary = state.get(\"summary\", \"\")\n",
    "    if summary:\n",
    "        summary_message = (\n",
    "            f\"This Summary of the Conversation is to date: {summary}\",\n",
    "            \"Extend the Summary by taking into account the new messages above:\"\n",
    "        )\n",
    "    else:\n",
    "        summary_message = \"Create a summary of the Conversation Above.\"\n",
    "    \n",
    "    messages = state[\"messages\"] + [HumanMessage(content=summary_message)]\n",
    "\n",
    "    response = llm.invoke(messages)\n",
    "\n",
    "    deleted_messages = [RemoveMessage(msg.id) for msg in state[\"messages\"][:-2]]\n",
    "\n",
    "    return {\n",
    "        \"messages\": deleted_messages,\n",
    "        \"summary\": response.content\n",
    "    }\n",
    "\n",
    "def should_continue(state:State):\n",
    "    messages = state[\"messages\"]\n",
    "\n",
    "    if len(messages) <= 6:\n",
    "        return \"summarize_conversation\"\n",
    "    \n",
    "    return END"
   ]
  },
  {
   "cell_type": "code",
   "execution_count": 7,
   "metadata": {},
   "outputs": [
    {
     "data": {
      "image/jpeg": "[encoded data removed]",
      "text/plain": [
       "<IPython.core.display.Image object>"
      ]
     },
     "metadata": {},
     "output_type": "display_data"
    }
   ],
   "source": [
    "from IPython.display import display, Image\n",
    "\n",
    "builder = StateGraph(State)\n",
    "\n",
    "builder.add_node(\"conversation\", call_model)\n",
    "builder.add_node(summarize_conversation)\n",
    "\n",
    "builder.add_edge(START, \"conversation\")\n",
    "builder.add_conditional_edges(\"conversation\", should_continue)\n",
    "builder.add_edge(\"summarize_conversation\", END)\n",
    "\n",
    "graph = builder.compile(checkpointer=memory)\n",
    "\n",
    "display(Image(graph.get_graph(xray=True).draw_mermaid_png()))"
   ]
  },
  {
   "cell_type": "code",
   "execution_count": 12,
   "metadata": {},
   "outputs": [
    {
     "name": "stdout",
     "output_type": "stream",
     "text": [
      "==================================\u001b[1m Ai Message \u001b[0m==================================\n",
      "\n",
      "Hello, M. Ahsaan Abbasi! How can I assist you today?\n",
      "==================================\u001b[1m Ai Message \u001b[0m==================================\n",
      "\n",
      "Your name is M. Ahsaan Abbasi. How can I help you today?\n",
      "==================================\u001b[1m Ai Message \u001b[0m==================================\n",
      "\n",
      "Artificial Intelligence (AI) is a branch of computer science focused on creating systems capable of performing tasks that typically require human intelligence. Here are some key aspects of AI:\n",
      "\n",
      "1. **Definition**: AI involves the development of algorithms and models that allow computers to perform tasks such as understanding natural language, recognizing patterns, solving problems, and making decisions.\n",
      "\n",
      "2. **Types of AI**:\n",
      "   - **Narrow AI**: Also known as weak AI, it is designed to perform a specific task (e.g., virtual assistants like Siri or Alexa).\n",
      "   - **General AI**: Also known as strong AI, it refers to a theoretical form of AI that possesses the ability to understand, learn, and apply intelligence across a wide range of tasks, similar to a human.\n",
      "\n",
      "3. **Machine Learning**: A subset of AI where algorithms learn from data to improve their performance over time without being explicitly programmed for each specific task.\n",
      "\n",
      "4. **Deep Learning**: A more advanced subset of machine learning that uses neural networks with multiple layers to analyze complex data patterns, particularly effective in image and speech recognition.\n",
      "\n",
      "5. **Applications**: AI is used in various fields, including:\n",
      "   - **Healthcare**: For diagnostics, personalized treatment plans, and drug discovery.\n",
      "   - **Finance**: In fraud detection, algorithmic trading, and risk assessment.\n",
      "   - **Transportation**: In self-driving vehicles and traffic management systems.\n",
      "   - **Customer Service**: Through chatbots and automated response systems.\n",
      "\n",
      "6. **Ethical Considerations**: The rise of AI raises important ethical questions, such as data privacy, algorithmic bias, and the potential impact on jobs and employment.\n",
      "\n",
      "7. **Future of AI**: AI technology is rapidly evolving, with ongoing research aimed at improving its capabilities and addressing ethical concerns. The future may see more advanced AI systems that can perform complex tasks and interact more naturally with humans.\n",
      "\n",
      "If you have specific questions or topics related to AI that you’d like to explore further, feel free to ask!\n"
     ]
    }
   ],
   "source": [
    "config = {\"configurable\" : {\"thread_id\" : \"1\"}}\n",
    "\n",
    "input_message = HumanMessage(content=\"Hi, This is M.Ahsaan Abbasi.\")\n",
    "out_put = graph.invoke({\"messages\": [input_message]}, config)\n",
    "for m in out_put[\"messages\"][-1:]:\n",
    "    m.pretty_print()\n",
    "\n",
    "input_message = HumanMessage(content=\"What is my Name?\")\n",
    "out_put = graph.invoke({\"messages\": [input_message]}, config)\n",
    "for m in out_put[\"messages\"][-1:]:\n",
    "    m.pretty_print()\n",
    "\n",
    "input_message = HumanMessage(content=\"tell me about AI?\")\n",
    "out_put = graph.invoke({\"messages\": [input_message]}, config)\n",
    "for m in out_put[\"messages\"][-1:]:\n",
    "    m.pretty_print()"
   ]
  },
  {
   "cell_type": "code",
   "execution_count": 9,
   "metadata": {},
   "outputs": [
    {
     "data": {
      "text/plain": [
       "'In the conversation, M. Ahsaan Abbasi introduces himself, and I respond by greeting him and offering assistance.'"
      ]
     },
     "execution_count": 9,
     "metadata": {},
     "output_type": "execute_result"
    }
   ],
   "source": [
    "config = {\"configurable\" : {\"thread_id\" : \"1\"}}\n",
    "graph.get_state(config).values.get(\"summary\", \"\")"
   ]
  },
  {
   "cell_type": "code",
   "execution_count": null,
   "metadata": {},
   "outputs": [],
   "source": []
  }
 ],
 "metadata": {
  "kernelspec": {
   "display_name": "open-service-uQHKusx_-py3.12",
   "language": "python",
   "name": "python3"
  },
  "language_info": {
   "codemirror_mode": {
    "name": "ipython",
    "version": 3
   },
   "file_extension": ".py",
   "mimetype": "text/x-python",
   "name": "python",
   "nbconvert_exporter": "python",
   "pygments_lexer": "ipython3",
   "version": "3.12.4"
  }
 },
 "nbformat": 4,
 "nbformat_minor": 2
}
